{
 "cells": [
  {
   "cell_type": "code",
   "execution_count": null,
   "id": "8b1d5d5d",
   "metadata": {},
   "outputs": [
    {
     "name": "stderr",
     "output_type": "stream",
     "text": [
      "C:\\Users\\elias\\anaconda3\\envs\\ai\\lib\\site-packages\\gym\\wrappers\\monitoring\\video_recorder.py:9: DeprecationWarning: The distutils package is deprecated and slated for removal in Python 3.12. Use setuptools or check PEP 632 for potential alternatives\n",
      "  import distutils.spawn\n",
      "C:\\Users\\elias\\anaconda3\\envs\\ai\\lib\\site-packages\\flatbuffers\\compat.py:19: DeprecationWarning: the imp module is deprecated in favour of importlib and slated for removal in Python 3.12; see the module's documentation for alternative uses\n",
      "  import imp\n"
     ]
    }
   ],
   "source": [
    "import sys\n",
    "\n",
    "sys.path.insert(1, \"C:/Users/elias/Documents/Git/Kniffel/kniffel\")\n",
    "sys.path.insert(1, \"C:/Users/elias/Documents/Git/Kniffel/\")\n",
    "\n",
    "from env import KniffelEnv\n",
    "import numpy as np"
   ]
  },
  {
   "cell_type": "code",
   "execution_count": null,
   "id": "f9249b63",
   "metadata": {},
   "outputs": [],
   "source": [
    " env_config = {\n",
    "        \"reward_step\": 0,\n",
    "        \"reward_roll_dice\": 0.5,\n",
    "        \"reward_game_over\": -50,\n",
    "        \"reward_slash\": -10,\n",
    "        \"reward_bonus\": 20,\n",
    "        \"reward_finish\": 50,\n",
    "    }"
   ]
  },
  {
   "cell_type": "code",
   "execution_count": null,
   "id": "77174c68",
   "metadata": {},
   "outputs": [],
   "source": [
    "def send_step(dice, env, action, score):\n",
    "    print(f\"State old: {env.kniffel.get_state()}\")\n",
    "    print(f\"Action: {action}\")\n",
    "    if len(dice) > 0:\n",
    "        env.mock(dice)\n",
    "    n_state, reward, done, info = env.step(action)\n",
    "    print(f\"Reward: {reward}\")\n",
    "    print(f\"Score: {score + reward}\")\n",
    "    print(f\"Done: {done}\")\n",
    "    print(f\"State new: {n_state}\")\n",
    "    print(f\"Round left: {env.kniffel.turns_left()}\")\n",
    "    print()\n",
    "    print()\n",
    "    \n",
    "    return reward"
   ]
  },
  {
   "cell_type": "code",
   "execution_count": null,
   "id": "c1498ad4",
   "metadata": {
    "scrolled": false
   },
   "outputs": [],
   "source": [
    "score = 0\n",
    "\n",
    "env = KniffelEnv(env_config, logging=False, config_file_path=\"Kniffel.csv\")\n",
    "\n",
    "# try 1\n",
    "score += send_step([], env, 13, score)\n",
    "score += send_step([1,1,1,1,1], env, 0, score)\n",
    "\n",
    "# try 2\n",
    "score += send_step([], env, 13, score)\n",
    "score += send_step([2,2,2,2,2], env, 1, score)\n",
    "\n",
    "# try 3\n",
    "score += send_step([3,3,3,3,3], env, 2, score)\n",
    "\n",
    "# try 4\n",
    "score += send_step([4,4,4,4,4], env, 3, score)\n",
    "\n",
    "# try 5\n",
    "score += send_step([5,5,5,5,5], env, 4, score)\n",
    "\n",
    "# try 6\n",
    "score += send_step([6,6,6,6,6], env, 5, score)\n",
    "\n",
    "# try 7\n",
    "score += send_step([6,6,6,6,6], env, 6, score)\n",
    "\n",
    "# try 8\n",
    "score += send_step([6,6,6,6,6], env, 7, score)\n",
    "\n",
    "# try 9\n",
    "score += send_step([6,6,6,5,5], env, 8, score)\n",
    "\n",
    "# try 10\n",
    "score += send_step([1,2,3,4,5], env, 9, score)\n",
    "\n",
    "# try 11\n",
    "score += send_step([1,2,3,4,5], env, 10, score)\n",
    "\n",
    "# try 12\n",
    "score += send_step([6,6,6,6,6], env, 11, score)\n",
    "\n",
    "# try 13\n",
    "score += send_step([6,6,6,6,6], env, 44, score)\n",
    "score += send_step([], env, 12, score)\n",
    "\n",
    "score += send_step([], env, 44, score)"
   ]
  },
  {
   "cell_type": "code",
   "execution_count": null,
   "id": "09a3a5c4",
   "metadata": {},
   "outputs": [],
   "source": []
  }
 ],
 "metadata": {
  "kernelspec": {
   "display_name": "Python 3 (ipykernel)",
   "language": "python",
   "name": "python3"
  },
  "language_info": {
   "codemirror_mode": {
    "name": "ipython",
    "version": 3
   },
   "file_extension": ".py",
   "mimetype": "text/x-python",
   "name": "python",
   "nbconvert_exporter": "python",
   "pygments_lexer": "ipython3",
   "version": "3.10.3"
  }
 },
 "nbformat": 4,
 "nbformat_minor": 5
}
