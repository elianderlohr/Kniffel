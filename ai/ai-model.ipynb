{
 "cells": [
  {
   "cell_type": "code",
   "execution_count": 1,
   "metadata": {},
   "outputs": [],
   "source": [
    "try:\n",
    "    from google.colab import drive\n",
    "    drive.mount('/content/drive/')\n",
    "    %cd 'drive/Kniffel'\n",
    "except ImportError as e:\n",
    "    pass"
   ]
  },
  {
   "cell_type": "code",
   "execution_count": 2,
   "metadata": {},
   "outputs": [],
   "source": [
    "import sys  \n",
    "sys.path.insert(0, 'kniffel')"
   ]
  },
  {
   "cell_type": "code",
   "execution_count": 4,
   "metadata": {},
   "outputs": [],
   "source": [
    "from ai.ai import KniffelAI"
   ]
  },
  {
   "cell_type": "code",
   "execution_count": 5,
   "metadata": {},
   "outputs": [
    {
     "name": "stdout",
     "output_type": "stream",
     "text": [
      "Created 45000 combinations to test.\n"
     ]
    },
    {
     "ename": "FileNotFoundError",
     "evalue": "[WinError 3] Das System kann den angegebenen Pfad nicht finden: 'weights/p_date=2022-05-12-20_00_23'",
     "output_type": "error",
     "traceback": [
      "\u001B[1;31m---------------------------------------------------------------------------\u001B[0m",
      "\u001B[1;31mFileNotFoundError\u001B[0m                         Traceback (most recent call last)",
      "Input \u001B[1;32mIn [5]\u001B[0m, in \u001B[0;36m<cell line: 20>\u001B[1;34m()\u001B[0m\n\u001B[0;32m      3\u001B[0m \u001B[38;5;66;03m# ai.play(path=\"weights\\p_date=2022-05-04-14_31_58\", episodes=1_000)\u001B[39;00m\n\u001B[0;32m      4\u001B[0m \n\u001B[0;32m      5\u001B[0m \u001B[38;5;66;03m# ai.grid_search_test(nb_steps=10_00x0)\u001B[39;00m\n\u001B[0;32m      7\u001B[0m hyperparameter \u001B[38;5;241m=\u001B[39m {\n\u001B[0;32m      8\u001B[0m     \u001B[38;5;124m\"\u001B[39m\u001B[38;5;124mwindows_length\u001B[39m\u001B[38;5;124m\"\u001B[39m: \u001B[38;5;241m1\u001B[39m,\n\u001B[0;32m      9\u001B[0m     \u001B[38;5;124m\"\u001B[39m\u001B[38;5;124madam_learning_rate\u001B[39m\u001B[38;5;124m\"\u001B[39m: \u001B[38;5;241m0.0007\u001B[39m,\n\u001B[1;32m   (...)\u001B[0m\n\u001B[0;32m     17\u001B[0m     \u001B[38;5;124m\"\u001B[39m\u001B[38;5;124munit_3\u001B[39m\u001B[38;5;124m\"\u001B[39m: \u001B[38;5;241m64\u001B[39m,\n\u001B[0;32m     18\u001B[0m }\n\u001B[1;32m---> 20\u001B[0m \u001B[43mai\u001B[49m\u001B[38;5;241;43m.\u001B[39;49m\u001B[43mtrain\u001B[49m\u001B[43m(\u001B[49m\n\u001B[0;32m     21\u001B[0m \u001B[43m    \u001B[49m\u001B[43mhyperparameter\u001B[49m\u001B[38;5;241;43m=\u001B[39;49m\u001B[43mhyperparameter\u001B[49m\u001B[43m,\u001B[49m\n\u001B[0;32m     22\u001B[0m \u001B[43m    \u001B[49m\u001B[43mnb_steps\u001B[49m\u001B[38;5;241;43m=\u001B[39;49m\u001B[38;5;241;43m250_000\u001B[39;49m\u001B[43m,\u001B[49m\n\u001B[0;32m     23\u001B[0m \u001B[43m)\u001B[49m\n",
      "File \u001B[1;32m~\\OneDrive\\Dokumente\\Git\\Kniffel\\ai\\ai.py:228\u001B[0m, in \u001B[0;36mKniffelAI.train\u001B[1;34m(self, hyperparameter, nb_steps, load_path)\u001B[0m\n\u001B[0;32m    225\u001B[0m path \u001B[38;5;241m=\u001B[39m \u001B[38;5;124mf\u001B[39m\u001B[38;5;124m\"\u001B[39m\u001B[38;5;124mweights/p_date=\u001B[39m\u001B[38;5;132;01m{\u001B[39;00mdatetime\u001B[38;5;132;01m}\u001B[39;00m\u001B[38;5;124m\"\u001B[39m\n\u001B[0;32m    227\u001B[0m \u001B[38;5;66;03m# Create dir\u001B[39;00m\n\u001B[1;32m--> 228\u001B[0m \u001B[43mos\u001B[49m\u001B[38;5;241;43m.\u001B[39;49m\u001B[43mmkdir\u001B[49m\u001B[43m(\u001B[49m\u001B[43mpath\u001B[49m\u001B[43m)\u001B[49m\n\u001B[0;32m    230\u001B[0m checkpoint_weights_filename \u001B[38;5;241m=\u001B[39m path \u001B[38;5;241m+\u001B[39m \u001B[38;5;124m\"\u001B[39m\u001B[38;5;124m/agent_weights_\u001B[39m\u001B[38;5;132;01m{step}\u001B[39;00m\u001B[38;5;124m.h5f\u001B[39m\u001B[38;5;124m\"\u001B[39m\n\u001B[0;32m    231\u001B[0m log_filename \u001B[38;5;241m=\u001B[39m path \u001B[38;5;241m+\u001B[39m \u001B[38;5;124m\"\u001B[39m\u001B[38;5;124m/agent_log.json\u001B[39m\u001B[38;5;124m\"\u001B[39m\n",
      "\u001B[1;31mFileNotFoundError\u001B[0m: [WinError 3] Das System kann den angegebenen Pfad nicht finden: 'weights/p_date=2022-05-12-20_00_23'"
     ]
    }
   ],
   "source": [
    "ai = KniffelAI(save=True, load=False)\n",
    "\n",
    "# ai.play(path=\"weights\\p_date=2022-05-04-14_31_58\", episodes=1_000)\n",
    "\n",
    "# ai.grid_search_test(nb_steps=10_00x0)\n",
    "\n",
    "hyperparameter = {\n",
    "    \"windows_length\": 1,\n",
    "    \"adam_learning_rate\": 0.0007,\n",
    "    \"batch_size\": 32,\n",
    "    \"target_model_update\": 1e-3,\n",
    "    \"dueling_option\": \"avg\",\n",
    "    \"activation\": \"linear\",\n",
    "    \"layers\": 2,\n",
    "    \"unit_1\": 128,\n",
    "    \"unit_2\": 64,\n",
    "    \"unit_3\": 64,\n",
    "}\n",
    "\n",
    "ai.train(\n",
    "    hyperparameter=hyperparameter,\n",
    "    nb_steps=250_000,\n",
    ")"
   ]
  },
  {
   "cell_type": "code",
   "execution_count": null,
   "metadata": {},
   "outputs": [],
   "source": []
  }
 ],
 "metadata": {
  "interpreter": {
   "hash": "7724bf7a85847efc5bb6a1829c232f0862f78efa3c8535cdc9aa81401d00c18c"
  },
  "kernelspec": {
   "display_name": "Python 3.9.11 ('ai')",
   "language": "python",
   "name": "python3"
  },
  "language_info": {
   "codemirror_mode": {
    "name": "ipython",
    "version": 3
   },
   "file_extension": ".py",
   "mimetype": "text/x-python",
   "name": "python",
   "nbconvert_exporter": "python",
   "pygments_lexer": "ipython3",
   "version": "3.9.11"
  },
  "orig_nbformat": 4
 },
 "nbformat": 4,
 "nbformat_minor": 2
}