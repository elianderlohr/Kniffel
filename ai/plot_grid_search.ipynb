{
 "cells": [
  {
   "cell_type": "code",
   "execution_count": 52,
   "id": "ba0a0889",
   "metadata": {},
   "outputs": [],
   "source": [
    "import json\n",
    "import matplotlib.pyplot as plt\n",
    "import statistics as stat\n",
    "import csv\n",
    "import numpy as np\n",
    "import random"
   ]
  },
  {
   "cell_type": "code",
   "execution_count": 57,
   "id": "e40c2cd3",
   "metadata": {},
   "outputs": [
    {
     "name": "stdout",
     "output_type": "stream",
     "text": [
      "Length: 3\n"
     ]
    }
   ],
   "source": [
    "base_path = \"../configuration/p_date=2022-06-24-10_43_42\" \n",
    "\n",
    "with open(f'{base_path}/csv_configuration.csv', 'r') as file:\n",
    "    reader = csv.reader(file, delimiter=\";\")\n",
    "    csv_data = {v[0]: v[1:] for v in reader}\n",
    "    print(\"Length: \" + str(len(csv_data)))"
   ]
  },
  {
   "cell_type": "code",
   "execution_count": 58,
   "id": "eec3638e",
   "metadata": {},
   "outputs": [],
   "source": [
    "def plot(plt, _id, data, title, labelX, labelY):\n",
    "    colors = [plt.cm.hsv(i) for i in np.linspace(0, 1, 600)]\n",
    "    random.shuffle(colors)\n",
    "    \n",
    "    interval = 2_500\n",
    "    index_0 = list(data.keys())[0]\n",
    "    moving_average = { i + index_0 : stat.mean(list(data.values())[i:i+interval+1]) for i in range(0, len(data.values()), interval) }\n",
    "    \n",
    "    # plt.scatter(data.keys(), data.values())\n",
    "    plt.plot(moving_average.keys(), moving_average.values(), color=colors[_id], label=f\"Id: {_id}\")"
   ]
  },
  {
   "cell_type": "code",
   "execution_count": 67,
   "id": "5d58e618",
   "metadata": {},
   "outputs": [],
   "source": [
    "def _print_data(plt, base_path, _id):\n",
    "    with open(f'{base_path}/log_{_id}.json', 'r') as f:\n",
    "        data = json.load(f)\n",
    "    \n",
    "    l = len(data[\"loss\"])\n",
    "    print(f\"{l} records\")\n",
    "    \n",
    "    # Loss\n",
    "    loss = [ v for v in data[\"loss\"] if str(v) != \"nan\" ]\n",
    "    mean_loss = stat.mean(loss)\n",
    "    loss_filtered = { k: v for k, v in enumerate(loss) } #if v <= mean_loss }\n",
    "\n",
    "    # Mae\n",
    "    mae = [ v for v in data[\"mae\"] if str(v) != \"nan\" ]\n",
    "    mean_mae = stat.mean(mae)\n",
    "    mae_filtered = { k: v for k, v in enumerate(mae) } #if v <= mean_mae }\n",
    "\n",
    "    # Mean Q\n",
    "    mean_q = [ v for v in data[\"mean_q\"] if str(v) != \"nan\" ]\n",
    "    mean_mean_q = stat.mean(mean_q)\n",
    "    mean_q_filtered = { k: v for k, v in enumerate(mean_q) }#if v <= mean_mean_q }\n",
    "\n",
    "    # Reward\n",
    "    episode_reward = { k: v for k, v in enumerate(data[\"episode_reward\"]) if str(v) != \"nan\" }\n",
    "\n",
    "    # Duration\n",
    "    duration = { k: v for k, v in enumerate(data[\"duration\"]) if str(v) != \"nan\" }\n",
    "\n",
    "    # NB Episode steps\n",
    "    nb_episode_steps = { k: v for k, v in enumerate(data[\"nb_episode_steps\"]) if str(v) != \"nan\" }\n",
    "    \n",
    "    plot(plt, _id, loss_filtered, \"Loss over time\", \"episodes\", \"loss\")\n",
    "    # plot(mae_filtered, \"Mae over time\", \"episodes\", \"mae\")\n",
    "    # plot(mean_q_filtered, \"Mean Q over time\", \"episodes\", \"mean q\")\n",
    "    \n",
    "    # plot(episode_reward, \"Episode reward over time\", \"episodes\", \"reward\")\n",
    "    # plot(duration, \"Duration over time\", \"episodes\", \"duration\")\n",
    "    # plot(nb_episode_steps, \"nb Episode steps over time\", \"episodes\", \"steps\")"
   ]
  },
  {
   "cell_type": "code",
   "execution_count": 68,
   "id": "22605db5",
   "metadata": {},
   "outputs": [
    {
     "name": "stdout",
     "output_type": "stream",
     "text": [
      "17891 records\n",
      "7238 records\n"
     ]
    },
    {
     "data": {
      "image/png": "[encoded data removed]",
      "text/plain": [
       "<Figure size 864x360 with 1 Axes>"
      ]
     },
     "metadata": {
      "needs_background": "light"
     },
     "output_type": "display_data"
    }
   ],
   "source": [
    "plt.figure(figsize=(12,5))\n",
    "\n",
    "for i in range(1, len(csv_data)):    \n",
    "    _print_data(plt, base_path, i)\n",
    "\n",
    "\n",
    "plt.title(\"Loss over time\")\n",
    "plt.xlabel(\"episodes\")\n",
    "plt.ylabel(\"loss\")\n",
    "plt.legend()\n",
    "plt.show()"
   ]
  },
  {
   "cell_type": "code",
   "execution_count": null,
   "id": "8fbc587b",
   "metadata": {},
   "outputs": [],
   "source": []
  },
  {
   "cell_type": "code",
   "execution_count": null,
   "id": "c7e93afa",
   "metadata": {},
   "outputs": [],
   "source": []
  }
 ],
 "metadata": {
  "kernelspec": {
   "display_name": "Python 3 (ipykernel)",
   "language": "python",
   "name": "python3"
  },
  "language_info": {
   "codemirror_mode": {
    "name": "ipython",
    "version": 3
   },
   "file_extension": ".py",
   "mimetype": "text/x-python",
   "name": "python",
   "nbconvert_exporter": "python",
   "pygments_lexer": "ipython3",
   "version": "3.10.3"
  }
 },
 "nbformat": 4,
 "nbformat_minor": 5
}
