{
 "cells": [
  {
   "cell_type": "code",
   "execution_count": 1,
   "id": "ba0a0889",
   "metadata": {
    "gather": {
     "logged": 1659523628825
    }
   },
   "outputs": [],
   "source": [
    "import json\n",
    "import matplotlib.pyplot as plt\n",
    "import statistics as stat\n",
    "import numpy as np\n",
    "import math"
   ]
  },
  {
   "cell_type": "code",
   "execution_count": 2,
   "id": "0aa6cbd4",
   "metadata": {
    "gather": {
     "logged": 1659523629509
    }
   },
   "outputs": [
    {
     "name": "stdout",
     "output_type": "stream",
     "text": [
      "6001 records\n",
      "dict_keys(['loss', 'mae', 'accuracy', 'mean_q', 'episode_reward', 'nb_episode_steps', 'nb_steps', 'episode', 'duration'])\n"
     ]
    }
   ],
   "source": [
    "with open('../../output/weights/p_date=2022-08-10-20_51_22/log.json', 'r') as f:\n",
    "    data = json.load(f)\n",
    "\n",
    "l = len(data[\"loss\"])\n",
    "print(f\"{l} records\")\n",
    "print(data.keys())"
   ]
  },
  {
   "cell_type": "code",
   "execution_count": 3,
   "id": "e1741d31",
   "metadata": {
    "gather": {
     "logged": 1659523630367
    }
   },
   "outputs": [],
   "source": [
    "# Loss\n",
    "loss = [ v for v in data[\"loss\"] if str(v) != \"nan\" ][-50_000:]\n",
    "mean_loss = stat.mean(loss)\n",
    "loss_filtered = { k: v for k, v in enumerate(loss) }#if v <= mean_loss }\n",
    "\n",
    "# Mae\n",
    "mae = [ v for v in data[\"mae\"] if str(v) != \"nan\" ]#[-50_000:]\n",
    "mean_mae = stat.mean(mae)\n",
    "mae_filtered = { k: v for k, v in enumerate(mae) }# if v <= mean_mae }\n",
    "\n",
    "# Mean Q\n",
    "mean_q = [ v for v in data[\"mean_q\"] if str(v) != \"nan\" ]#[-50_000:]\n",
    "mean_mean_q = stat.mean(mean_q)\n",
    "mean_q_filtered = { k: v for k, v in enumerate(mean_q) }# if v <= mean_mean_q }\n",
    "\n",
    "# Reward\n",
    "reward = [ v for v in data[\"episode_reward\"] if str(v) != \"nan\" ]#[-500:]\n",
    "mean_reward = stat.mean(reward)\n",
    "episode_reward = { k: v for k, v in enumerate(reward) }# if v <= mean_reward }\n",
    "\n",
    "# Duration\n",
    "duration = { k: v for k, v in enumerate(data[\"duration\"]) if str(v) != \"nan\" }\n",
    "\n",
    "# NB Episode steps\n",
    "nb_episode_steps = { k: v for k, v in enumerate(data[\"nb_episode_steps\"]) if str(v) != \"nan\" }\n",
    "\n",
    "# Accuracy\n",
    "accuracy = { k: v for k, v in enumerate(data[\"accuracy\"]) if str(v) != \"nan\" }"
   ]
  },
  {
   "cell_type": "code",
   "execution_count": 4,
   "id": "da70620c",
   "metadata": {
    "gather": {
     "logged": 1659523630458
    }
   },
   "outputs": [],
   "source": [
    "def plot(data, title, labelX, labelY):\n",
    "    interval = 1000\n",
    "    index_0 = list(data.keys())[0]\n",
    "    moving_average = { i + index_0 : stat.mean(list(data.values())[i:i+interval+1]) for i in range(0, len(data.values()), interval) }\n",
    "    \n",
    "    plt.figure(figsize=(15,5))\n",
    "    plt.scatter(data.keys(), data.values())\n",
    "    plt.plot(list(moving_average.keys()), list(moving_average.values()), color=\"red\")\n",
    "    plt.title(title)\n",
    "    plt.xlabel(labelX)\n",
    "    plt.ylabel(labelY)\n",
    "    plt.show()\n",
    "    \n",
    "    previous = 0\n",
    "    initial = list(moving_average.values())[0]\n",
    "    percent_list = []\n",
    "    for current in moving_average.values():\n",
    "        if previous > 0:\n",
    "            \n",
    "            percentage_prev = ((float(current)-previous)/previous)*100\n",
    "            percentage_init = ((float(current)-initial)/initial)*100\n",
    "\n",
    "            item = \"{}{}% ({} | {}%)\".format((\"+\" if percentage_prev > 0 else \"\"), str(math.trunc((percentage_prev))), str(float(current)), math.trunc(percentage_init))\n",
    "\n",
    "            percent_list.append(item)\n",
    "        \n",
    "\n",
    "        previous = current\n",
    "\n",
    "    print(f\"Maximum: {max(data.values())}\")\n",
    "    print(f\"Average: {sum(data.values()) / len(data.values())}\")\n",
    "    print(f\"Moving Average: {percent_list}\")\n",
    "    print(f\"Minimum: {min(data.values())}\")"
   ]
  },
  {
   "cell_type": "code",
   "execution_count": 5,
   "id": "8b4459d5",
   "metadata": {
    "gather": {
     "logged": 1659523635313
    },
    "scrolled": false
   },
   "outputs": [
    {
     "data": {
      "image/png": "[encoded data removed]",
      "text/plain": [
       "<Figure size 1080x360 with 1 Axes>"
      ]
     },
     "metadata": {
      "needs_background": "light"
     },
     "output_type": "display_data"
    },
    {
     "name": "stdout",
     "output_type": "stream",
     "text": [
      "Maximum: -1000.0\n",
      "Average: -1000.0\n",
      "Moving Average: []\n",
      "Minimum: -1000.0\n"
     ]
    }
   ],
   "source": [
    "plot(episode_reward, \"Episode reward over time\", \"episodes\", \"reward\")"
   ]
  },
  {
   "cell_type": "code",
   "execution_count": 6,
   "id": "2b33e276",
   "metadata": {
    "gather": {
     "logged": 1659523637387
    }
   },
   "outputs": [
    {
     "data": {
      "image/png": "[encoded data removed]",
      "text/plain": [
       "<Figure size 1080x360 with 1 Axes>"
      ]
     },
     "metadata": {
      "needs_background": "light"
     },
     "output_type": "display_data"
    },
    {
     "name": "stdout",
     "output_type": "stream",
     "text": [
      "Maximum: 3\n",
      "Average: 2.9693384435927346\n",
      "Moving Average: ['+6% (3.0 | 6%)', '0% (3.0 | 6%)', '0% (3.0 | 6%)', '0% (3.0 | 6%)', '0% (3.0 | 6%)', '0% (3.0 | 6%)']\n",
      "Minimum: 1\n"
     ]
    }
   ],
   "source": [
    "plot(nb_episode_steps, \"nb Episode steps over time\", \"episodes\", \"steps\")"
   ]
  },
  {
   "cell_type": "code",
   "execution_count": 7,
   "id": "fab0fc7c",
   "metadata": {
    "gather": {
     "logged": 1659523631140
    },
    "scrolled": false
   },
   "outputs": [],
   "source": [
    "#plot(loss_filtered, \"Loss over time\", \"episodes\", \"loss\")"
   ]
  },
  {
   "cell_type": "code",
   "execution_count": 8,
   "id": "03937053",
   "metadata": {
    "gather": {
     "logged": 1659523632702
    }
   },
   "outputs": [],
   "source": [
    "#plot(mae_filtered, \"Mae over time\", \"episodes\", \"mae\")"
   ]
  },
  {
   "cell_type": "code",
   "execution_count": 9,
   "id": "fdaca2ae",
   "metadata": {
    "gather": {
     "logged": 1659523633696
    },
    "scrolled": false
   },
   "outputs": [],
   "source": [
    "#plot(mean_q_filtered, \"Mean Q over time\", \"episodes\", \"mean q\")"
   ]
  },
  {
   "cell_type": "code",
   "execution_count": 10,
   "id": "0f332196",
   "metadata": {
    "gather": {
     "logged": 1659523635991
    }
   },
   "outputs": [],
   "source": [
    "#plot(duration, \"Duration over time\", \"episodes\", \"duration\")"
   ]
  },
  {
   "cell_type": "code",
   "execution_count": 11,
   "id": "34e3daf4-3930-44ad-921b-e9c9ac7eeb94",
   "metadata": {
    "gather": {
     "logged": 1659523638680
    },
    "jupyter": {
     "outputs_hidden": false,
     "source_hidden": false
    },
    "nteract": {
     "transient": {
      "deleting": false
     }
    }
   },
   "outputs": [],
   "source": [
    "#plot(accuracy, \"accuracy over time\", \"accuracy\", \"steps\")"
   ]
  }
 ],
 "metadata": {
  "kernel_info": {
   "name": "python3"
  },
  "kernelspec": {
   "display_name": "Python 3 (ipykernel)",
   "language": "python",
   "name": "python3"
  },
  "language_info": {
   "codemirror_mode": {
    "name": "ipython",
    "version": 3
   },
   "file_extension": ".py",
   "mimetype": "text/x-python",
   "name": "python",
   "nbconvert_exporter": "python",
   "pygments_lexer": "ipython3",
   "version": "3.9.12"
  },
  "microsoft": {
   "host": {
    "AzureML": {
     "notebookHasBeenCompleted": true
    }
   }
  },
  "nteract": {
   "version": "nteract-front-end@1.0.0"
  }
 },
 "nbformat": 4,
 "nbformat_minor": 5
}
