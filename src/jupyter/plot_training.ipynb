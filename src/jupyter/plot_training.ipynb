{
 "cells": [
  {
   "cell_type": "code",
   "execution_count": 1,
   "id": "ba0a0889",
   "metadata": {
    "gather": {
     "logged": 1660736209597
    }
   },
   "outputs": [],
   "source": [
    "import json\n",
    "import matplotlib.pyplot as plt\n",
    "import statistics as stat\n",
    "import numpy as np\n",
    "import math"
   ]
  },
  {
   "cell_type": "code",
   "execution_count": 2,
   "id": "0aa6cbd4",
   "metadata": {
    "gather": {
     "logged": 1660736210037
    }
   },
   "outputs": [
    {
     "ename": "FileNotFoundError",
     "evalue": "[Errno 2] No such file or directory: '../../output/weights/p_date=2022-09-07-08_47_18/log.json'",
     "output_type": "error",
     "traceback": [
      "\u001b[1;31m---------------------------------------------------------------------------\u001b[0m",
      "\u001b[1;31mFileNotFoundError\u001b[0m                         Traceback (most recent call last)",
      "\u001b[1;32m~\\AppData\\Local\\Temp/ipykernel_23428/4233571961.py\u001b[0m in \u001b[0;36m<module>\u001b[1;34m\u001b[0m\n\u001b[1;32m----> 1\u001b[1;33m \u001b[1;32mwith\u001b[0m \u001b[0mopen\u001b[0m\u001b[1;33m(\u001b[0m\u001b[1;34m'../../output/weights/p_date=2022-09-07-08_47_18/log.json'\u001b[0m\u001b[1;33m,\u001b[0m \u001b[1;34m'r'\u001b[0m\u001b[1;33m)\u001b[0m \u001b[1;32mas\u001b[0m \u001b[0mf\u001b[0m\u001b[1;33m:\u001b[0m\u001b[1;33m\u001b[0m\u001b[1;33m\u001b[0m\u001b[0m\n\u001b[0m\u001b[0;32m      2\u001b[0m     \u001b[0mdata\u001b[0m \u001b[1;33m=\u001b[0m \u001b[0mjson\u001b[0m\u001b[1;33m.\u001b[0m\u001b[0mload\u001b[0m\u001b[1;33m(\u001b[0m\u001b[0mf\u001b[0m\u001b[1;33m)\u001b[0m\u001b[1;33m\u001b[0m\u001b[1;33m\u001b[0m\u001b[0m\n\u001b[0;32m      3\u001b[0m \u001b[1;33m\u001b[0m\u001b[0m\n\u001b[0;32m      4\u001b[0m \u001b[0ml\u001b[0m \u001b[1;33m=\u001b[0m \u001b[0mlen\u001b[0m\u001b[1;33m(\u001b[0m\u001b[0mdata\u001b[0m\u001b[1;33m[\u001b[0m\u001b[1;34m\"loss\"\u001b[0m\u001b[1;33m]\u001b[0m\u001b[1;33m)\u001b[0m\u001b[1;33m\u001b[0m\u001b[1;33m\u001b[0m\u001b[0m\n\u001b[0;32m      5\u001b[0m \u001b[0mprint\u001b[0m\u001b[1;33m(\u001b[0m\u001b[1;34mf\"{l} records\"\u001b[0m\u001b[1;33m)\u001b[0m\u001b[1;33m\u001b[0m\u001b[1;33m\u001b[0m\u001b[0m\n",
      "\u001b[1;31mFileNotFoundError\u001b[0m: [Errno 2] No such file or directory: '../../output/weights/p_date=2022-09-07-08_47_18/log.json'"
     ]
    }
   ],
   "source": [
    "with open('../../output/weights/p_date=2022-09-07-08_47_18/log.json', 'r') as f:\n",
    "    data = json.load(f)\n",
    "\n",
    "l = len(data[\"loss\"])\n",
    "print(f\"{l} records\")\n",
    "print(data.keys())"
   ]
  },
  {
   "cell_type": "code",
   "execution_count": null,
   "id": "e1741d31",
   "metadata": {
    "gather": {
     "logged": 1660736211098
    }
   },
   "outputs": [],
   "source": [
    "slice = 100_000\n",
    "\n",
    "# Loss\n",
    "loss = [ v for v in data[\"loss\"] if str(v) != \"nan\" ][-slice:]\n",
    "mean_loss = stat.mean(loss)\n",
    "loss_filtered = { k: v for k, v in enumerate(loss) }#if v <= mean_loss }\n",
    "\n",
    "# Mean Q\n",
    "mean_q = [ v for v in data[\"mean_q\"] if str(v) != \"nan\" ]#[-slice:]\n",
    "mean_mean_q = stat.mean(mean_q)\n",
    "mean_q_filtered = { k: v for k, v in enumerate(mean_q) }# if v <= mean_mean_q }\n",
    "\n",
    "# Reward\n",
    "reward = [ v for v in data[\"episode_reward\"] if str(v) != \"nan\" ][-slice:]\n",
    "mean_reward = stat.mean(reward)\n",
    "episode_reward = { k: v for k, v in enumerate(reward) }# if v <= mean_reward }\n",
    "\n",
    "# Duration\n",
    "duration = { k: v for k, v in enumerate(data[\"duration\"]) if str(v) != \"nan\" }\n",
    "\n",
    "# NB Episode steps\n",
    "nb_episode_steps = { k: v for k, v in enumerate(data[\"nb_episode_steps\"][-slice:]) if str(v) != \"nan\" }"
   ]
  },
  {
   "cell_type": "code",
   "execution_count": null,
   "id": "da70620c",
   "metadata": {
    "gather": {
     "logged": 1660736211220
    }
   },
   "outputs": [],
   "source": [
    "def plot(data, title, labelX, labelY):\n",
    "    interval = 1000\n",
    "    \n",
    "    index_0 = list(data.keys())[0]\n",
    "    moving_average = { i + index_0 : stat.mean(list(data.values())[i:i+interval+1]) for i in range(0, len(data.values()), interval) }\n",
    "    \n",
    "    plt.figure(figsize=(15,5))\n",
    "    plt.scatter(data.keys(), data.values())\n",
    "    plt.plot(list(moving_average.keys()), list(moving_average.values()), color=\"red\")\n",
    "    plt.title(title)\n",
    "    plt.xlabel(labelX)\n",
    "    plt.ylabel(labelY)\n",
    "    plt.show()\n",
    "    \n",
    "    previous = 0\n",
    "    initial = list(moving_average.values())[0]\n",
    "    percent_list = []\n",
    "    for current in moving_average.values():\n",
    "        if previous > 0:\n",
    "            \n",
    "            percentage_prev = ((float(current)-previous)/previous)*100\n",
    "            percentage_init = ((float(current)-initial)/initial)*100\n",
    "\n",
    "            item = \"{}{}% ({} | {}%)\".format((\"+\" if percentage_prev > 0 else \"\"), str(math.trunc((percentage_prev))), str(float(current)), math.trunc(percentage_init))\n",
    "\n",
    "            percent_list.append(item)\n",
    "        \n",
    "\n",
    "        previous = current\n",
    "\n",
    "    print(f\"Maximum: {max(data.values())}\")\n",
    "    print(f\"Average: {sum(data.values()) / len(data.values())}\")\n",
    "    print(f\"Moving Average (simple): {moving_average}\")\n",
    "    print()\n",
    "    print(f\"Moving Average: {percent_list}\")\n",
    "   \n",
    "    print(f\"Minimum: {min(data.values())}\")"
   ]
  },
  {
   "cell_type": "code",
   "execution_count": null,
   "id": "8b4459d5",
   "metadata": {
    "gather": {
     "logged": 1660736214524
    },
    "scrolled": false
   },
   "outputs": [],
   "source": [
    "plot(episode_reward, \"Episode reward over time\", \"episodes\", \"reward\")"
   ]
  },
  {
   "cell_type": "code",
   "execution_count": null,
   "id": "2b33e276",
   "metadata": {
    "gather": {
     "logged": 1660736216447
    }
   },
   "outputs": [],
   "source": [
    "plot(nb_episode_steps, \"nb Episode steps over time\", \"episodes\", \"steps\")"
   ]
  },
  {
   "cell_type": "code",
   "execution_count": null,
   "id": "fab0fc7c",
   "metadata": {
    "gather": {
     "logged": 1660720449864
    },
    "scrolled": false
   },
   "outputs": [],
   "source": [
    "# plot(loss_filtered, \"Loss over time\", \"episodes\", \"loss\")"
   ]
  },
  {
   "cell_type": "code",
   "execution_count": null,
   "id": "03937053",
   "metadata": {
    "gather": {
     "logged": 1659523632702
    }
   },
   "outputs": [],
   "source": [
    "#plot(mae_filtered, \"Mae over time\", \"episodes\", \"mae\")"
   ]
  },
  {
   "cell_type": "code",
   "execution_count": null,
   "id": "fdaca2ae",
   "metadata": {
    "gather": {
     "logged": 1659523633696
    },
    "scrolled": false
   },
   "outputs": [],
   "source": [
    "#plot(mean_q_filtered, \"Mean Q over time\", \"episodes\", \"mean q\")"
   ]
  },
  {
   "cell_type": "code",
   "execution_count": null,
   "id": "0f332196",
   "metadata": {
    "gather": {
     "logged": 1660720443739
    }
   },
   "outputs": [],
   "source": [
    "#plot(duration, \"Duration over time\", \"episodes\", \"duration\")"
   ]
  },
  {
   "cell_type": "code",
   "execution_count": null,
   "id": "34e3daf4-3930-44ad-921b-e9c9ac7eeb94",
   "metadata": {
    "gather": {
     "logged": 1659523638680
    },
    "jupyter": {
     "outputs_hidden": false,
     "source_hidden": false
    },
    "nteract": {
     "transient": {
      "deleting": false
     }
    }
   },
   "outputs": [],
   "source": [
    "#plot(accuracy, \"accuracy over time\", \"accuracy\", \"steps\")"
   ]
  }
 ],
 "metadata": {
  "kernel_info": {
   "name": "python3"
  },
  "kernelspec": {
   "display_name": "Python 3 (ipykernel)",
   "language": "python",
   "name": "python3"
  },
  "language_info": {
   "codemirror_mode": {
    "name": "ipython",
    "version": 3
   },
   "file_extension": ".py",
   "mimetype": "text/x-python",
   "name": "python",
   "nbconvert_exporter": "python",
   "pygments_lexer": "ipython3",
   "version": "3.9.7"
  },
  "microsoft": {
   "host": {
    "AzureML": {
     "notebookHasBeenCompleted": true
    }
   }
  },
  "nteract": {
   "version": "nteract-front-end@1.0.0"
  }
 },
 "nbformat": 4,
 "nbformat_minor": 5
}
