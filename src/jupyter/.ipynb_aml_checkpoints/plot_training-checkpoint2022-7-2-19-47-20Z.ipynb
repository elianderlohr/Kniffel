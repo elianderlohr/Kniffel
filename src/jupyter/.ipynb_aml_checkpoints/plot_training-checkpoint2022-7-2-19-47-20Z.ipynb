{
  "cells": [
    {
      "cell_type": "code",
      "source": [
        "import json\n",
        "import matplotlib.pyplot as plt\n",
        "import statistics as stat\n",
        "import numpy as np"
      ],
      "outputs": [],
      "execution_count": null,
      "metadata": {
        "gather": {
          "logged": 1659469546856
        }
      },
      "id": "ba0a0889"
    },
    {
      "cell_type": "code",
      "source": [
        "with open('../../output/weights/p_date=2022-08-02-19_02_42/log.json', 'r') as f:\n",
        "    data = json.load(f)\n",
        "    \n",
        "l = len(data[\"loss\"])\n",
        "print(f\"{l} records\")\n",
        "print(data.keys())"
      ],
      "outputs": [],
      "execution_count": null,
      "metadata": {
        "gather": {
          "logged": 1659469546866
        }
      },
      "id": "0aa6cbd4"
    },
    {
      "cell_type": "code",
      "source": [
        "# Loss\n",
        "loss = [ v for v in data[\"loss\"] if str(v) != \"nan\" ][-50_000:]\n",
        "mean_loss = stat.mean(loss)\n",
        "loss_filtered = { k: v for k, v in enumerate(loss) }#if v <= mean_loss }\n",
        "\n",
        "# Mae\n",
        "mae = [ v for v in data[\"mae\"] if str(v) != \"nan\" ]#[-50_000:]\n",
        "mean_mae = stat.mean(mae)\n",
        "mae_filtered = { k: v for k, v in enumerate(mae) }# if v <= mean_mae }\n",
        "\n",
        "# Mean Q\n",
        "mean_q = [ v for v in data[\"mean_q\"] if str(v) != \"nan\" ]#[-50_000:]\n",
        "mean_mean_q = stat.mean(mean_q)\n",
        "mean_q_filtered = { k: v for k, v in enumerate(mean_q) }# if v <= mean_mean_q }\n",
        "\n",
        "# Reward\n",
        "reward = [ v for v in data[\"episode_reward\"] if str(v) != \"nan\" ]#[-500:]\n",
        "mean_reward = stat.mean(reward)\n",
        "episode_reward = { k: v for k, v in enumerate(reward) }# if v <= mean_reward }\n",
        "\n",
        "# Duration\n",
        "duration = { k: v for k, v in enumerate(data[\"duration\"]) if str(v) != \"nan\" }\n",
        "\n",
        "# NB Episode steps\n",
        "nb_episode_steps = { k: v for k, v in enumerate(data[\"nb_episode_steps\"]) if str(v) != \"nan\" }"
      ],
      "outputs": [],
      "execution_count": null,
      "metadata": {
        "gather": {
          "logged": 1659469546873
        }
      },
      "id": "e1741d31"
    },
    {
      "cell_type": "code",
      "source": [
        "def plot(data, title, labelX, labelY):\n",
        "    interval = 500\n",
        "    index_0 = list(data.keys())[0]\n",
        "    moving_average = { i + index_0 : stat.mean(list(data.values())[i:i+interval+1]) for i in range(0, len(data.values()), interval) }\n",
        "    \n",
        "    plt.figure(figsize=(15,5))\n",
        "    plt.scatter(data.keys(), data.values())\n",
        "    plt.plot(list(moving_average.keys()), list(moving_average.values()), color=\"red\")\n",
        "    plt.title(title)\n",
        "    plt.xlabel(labelX)\n",
        "    plt.ylabel(labelY)\n",
        "    plt.show()\n",
        "    \n",
        "    print(f\"Maximum: {max(data.values())}\")\n",
        "    print(f\"Average: {sum(data.values()) / len(data.values())}\")\n",
        "    print(f\"Minimum: {min(data.values())}\")"
      ],
      "outputs": [],
      "execution_count": null,
      "metadata": {
        "gather": {
          "logged": 1659469546880
        }
      },
      "id": "da70620c"
    },
    {
      "cell_type": "code",
      "source": [
        "plot(loss_filtered, \"Loss over time\", \"episodes\", \"loss\")"
      ],
      "outputs": [],
      "execution_count": null,
      "metadata": {
        "scrolled": false,
        "gather": {
          "logged": 1659469546891
        }
      },
      "id": "fab0fc7c"
    },
    {
      "cell_type": "code",
      "source": [
        "plot(mae_filtered, \"Mae over time\", \"episodes\", \"mae\")"
      ],
      "outputs": [],
      "execution_count": null,
      "metadata": {
        "gather": {
          "logged": 1659469546896
        }
      },
      "id": "03937053"
    },
    {
      "cell_type": "code",
      "source": [
        "plot(mean_q_filtered, \"Mean Q over time\", \"episodes\", \"mean q\")"
      ],
      "outputs": [],
      "execution_count": null,
      "metadata": {
        "scrolled": false,
        "gather": {
          "logged": 1659469546901
        }
      },
      "id": "fdaca2ae"
    },
    {
      "cell_type": "code",
      "source": [
        "plot(episode_reward, \"Episode reward over time\", \"episodes\", \"reward\")"
      ],
      "outputs": [],
      "execution_count": null,
      "metadata": {
        "scrolled": false,
        "gather": {
          "logged": 1659469546905
        }
      },
      "id": "8b4459d5"
    },
    {
      "cell_type": "code",
      "source": [
        "plot(duration, \"Duration over time\", \"episodes\", \"duration\")"
      ],
      "outputs": [],
      "execution_count": null,
      "metadata": {
        "gather": {
          "logged": 1659469546910
        }
      },
      "id": "0f332196"
    },
    {
      "cell_type": "code",
      "source": [
        "plot(nb_episode_steps, \"nb Episode steps over time\", \"episodes\", \"steps\")"
      ],
      "outputs": [],
      "execution_count": null,
      "metadata": {
        "gather": {
          "logged": 1659469546915
        }
      },
      "id": "2b33e276"
    },
    {
      "cell_type": "code",
      "source": [],
      "outputs": [],
      "execution_count": null,
      "metadata": {
        "jupyter": {
          "source_hidden": false,
          "outputs_hidden": false
        },
        "nteract": {
          "transient": {
            "deleting": false
          }
        }
      },
      "id": "a9de4f7c-68fa-4883-82b5-7ac9fb42942a"
    },
    {
      "cell_type": "code",
      "source": [],
      "outputs": [],
      "execution_count": null,
      "metadata": {
        "jupyter": {
          "source_hidden": false,
          "outputs_hidden": false
        },
        "nteract": {
          "transient": {
            "deleting": false
          }
        }
      },
      "id": "d3864a5f-d0eb-4288-851e-289303593d6e"
    }
  ],
  "metadata": {
    "kernelspec": {
      "name": "python3",
      "language": "python",
      "display_name": "Python 3 (ipykernel)"
    },
    "language_info": {
      "name": "python",
      "version": "3.8.5",
      "mimetype": "text/x-python",
      "codemirror_mode": {
        "name": "ipython",
        "version": 3
      },
      "pygments_lexer": "ipython3",
      "nbconvert_exporter": "python",
      "file_extension": ".py"
    },
    "kernel_info": {
      "name": "python3"
    },
    "microsoft": {
      "host": {
        "AzureML": {
          "notebookHasBeenCompleted": true
        }
      }
    },
    "nteract": {
      "version": "nteract-front-end@1.0.0"
    }
  },
  "nbformat": 4,
  "nbformat_minor": 5
}