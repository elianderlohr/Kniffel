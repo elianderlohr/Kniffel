{
 "cells": [
  {
   "cell_type": "code",
   "execution_count": 28,
   "id": "4571e928",
   "metadata": {},
   "outputs": [],
   "source": [
    "l = [i * i for i in range(10)]"
   ]
  },
  {
   "cell_type": "code",
   "execution_count": 34,
   "id": "2c5e1d5e",
   "metadata": {},
   "outputs": [],
   "source": [
    "import numpy as np\n",
    "import scipy as sp\n",
    "from scipy import stats"
   ]
  },
  {
   "cell_type": "code",
   "execution_count": 52,
   "id": "f8b56c92",
   "metadata": {},
   "outputs": [],
   "source": [
    "def sm(l) -> float:\n",
    "    #return stats.moment(l, moment = 2)\n",
    "    \n",
    "    sm_list = [ np.power(v, 2) for v in l]\n",
    "    return np.mean(sm_list)"
   ]
  },
  {
   "cell_type": "code",
   "execution_count": 53,
   "id": "f7ea38ee",
   "metadata": {},
   "outputs": [],
   "source": [
    "t1 = [1, 3, 6, 10]"
   ]
  },
  {
   "cell_type": "code",
   "execution_count": 54,
   "id": "1ff59606",
   "metadata": {},
   "outputs": [],
   "source": [
    "t2 = [30, 60, 100, 130]"
   ]
  },
  {
   "cell_type": "code",
   "execution_count": 55,
   "id": "ee99b103",
   "metadata": {},
   "outputs": [
    {
     "data": {
      "text/plain": [
       "36.5"
      ]
     },
     "execution_count": 55,
     "metadata": {},
     "output_type": "execute_result"
    }
   ],
   "source": [
    "sm(t1)"
   ]
  },
  {
   "cell_type": "code",
   "execution_count": 56,
   "id": "22f9337d",
   "metadata": {},
   "outputs": [
    {
     "data": {
      "text/plain": [
       "7850.0"
      ]
     },
     "execution_count": 56,
     "metadata": {},
     "output_type": "execute_result"
    }
   ],
   "source": [
    "sm(t2)"
   ]
  },
  {
   "cell_type": "code",
   "execution_count": 57,
   "id": "668db779",
   "metadata": {},
   "outputs": [],
   "source": [
    "t3 = [10,10,11,12]"
   ]
  },
  {
   "cell_type": "code",
   "execution_count": 58,
   "id": "76b1ab15",
   "metadata": {},
   "outputs": [
    {
     "data": {
      "text/plain": [
       "116.25"
      ]
     },
     "execution_count": 58,
     "metadata": {},
     "output_type": "execute_result"
    }
   ],
   "source": [
    "sm(t3)"
   ]
  },
  {
   "cell_type": "code",
   "execution_count": 59,
   "id": "aad86136",
   "metadata": {},
   "outputs": [],
   "source": [
    "t4 = [3,4,3,5]"
   ]
  },
  {
   "cell_type": "code",
   "execution_count": 60,
   "id": "390c6467",
   "metadata": {},
   "outputs": [
    {
     "data": {
      "text/plain": [
       "14.75"
      ]
     },
     "execution_count": 60,
     "metadata": {},
     "output_type": "execute_result"
    }
   ],
   "source": [
    "sm(t4)"
   ]
  },
  {
   "cell_type": "code",
   "execution_count": null,
   "id": "65cf001f",
   "metadata": {},
   "outputs": [],
   "source": []
  }
 ],
 "metadata": {
  "kernelspec": {
   "display_name": "Python 3 (ipykernel)",
   "language": "python",
   "name": "python3"
  },
  "language_info": {
   "codemirror_mode": {
    "name": "ipython",
    "version": 3
   },
   "file_extension": ".py",
   "mimetype": "text/x-python",
   "name": "python",
   "nbconvert_exporter": "python",
   "pygments_lexer": "ipython3",
   "version": "3.9.7"
  }
 },
 "nbformat": 4,
 "nbformat_minor": 5
}
