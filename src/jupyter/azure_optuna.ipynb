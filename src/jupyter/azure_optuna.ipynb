{
  "cells": [
    {
      "cell_type": "code",
      "source": [
        "!pip install keras-rl\n",
        "!pip install keras-rl2\n",
        "!pip install gym\n",
        "!pip install sympy\n",
        "!pip install optuna\n",
        "!pip install joblib"
      ],
      "outputs": [
        {
          "output_type": "stream",
          "name": "stdout",
          "text": "Requirement already satisfied: keras-rl in /anaconda/envs/azureml_py38/lib/python3.8/site-packages (0.4.2)\nRequirement already satisfied: keras>=2.0.7 in /anaconda/envs/azureml_py38/lib/python3.8/site-packages (from keras-rl) (2.3.1)\nRequirement already satisfied: six>=1.9.0 in /anaconda/envs/azureml_py38/lib/python3.8/site-packages (from keras>=2.0.7->keras-rl) (1.16.0)\nRequirement already satisfied: h5py in /anaconda/envs/azureml_py38/lib/python3.8/site-packages (from keras>=2.0.7->keras-rl) (2.10.0)\nRequirement already satisfied: keras-applications>=1.0.6 in /anaconda/envs/azureml_py38/lib/python3.8/site-packages (from keras>=2.0.7->keras-rl) (1.0.8)\nRequirement already satisfied: scipy>=0.14 in /anaconda/envs/azureml_py38/lib/python3.8/site-packages (from keras>=2.0.7->keras-rl) (1.4.1)\nRequirement already satisfied: pyyaml in /anaconda/envs/azureml_py38/lib/python3.8/site-packages (from keras>=2.0.7->keras-rl) (6.0)\nRequirement already satisfied: keras-preprocessing>=1.0.5 in /anaconda/envs/azureml_py38/lib/python3.8/site-packages (from keras>=2.0.7->keras-rl) (1.1.2)\nRequirement already satisfied: numpy>=1.9.1 in /anaconda/envs/azureml_py38/lib/python3.8/site-packages (from keras>=2.0.7->keras-rl) (1.19.0)\nRequirement already satisfied: keras-rl2 in /anaconda/envs/azureml_py38/lib/python3.8/site-packages (1.0.5)\nRequirement already satisfied: tensorflow in /anaconda/envs/azureml_py38/lib/python3.8/site-packages (from keras-rl2) (2.2.0)\nRequirement already satisfied: tensorboard<2.3.0,>=2.2.0 in /anaconda/envs/azureml_py38/lib/python3.8/site-packages (from tensorflow->keras-rl2) (2.2.2)\nRequirement already satisfied: opt-einsum>=2.3.2 in /anaconda/envs/azureml_py38/lib/python3.8/site-packages (from tensorflow->keras-rl2) (3.3.0)\nRequirement already satisfied: grpcio>=1.8.6 in /anaconda/envs/azureml_py38/lib/python3.8/site-packages (from tensorflow->keras-rl2) (1.46.3)\nRequirement already satisfied: protobuf>=3.8.0 in /anaconda/envs/azureml_py38/lib/python3.8/site-packages (from tensorflow->keras-rl2) (3.20.1)\nRequirement already satisfied: google-pasta>=0.1.8 in /anaconda/envs/azureml_py38/lib/python3.8/site-packages (from tensorflow->keras-rl2) (0.2.0)\nRequirement already satisfied: numpy<2.0,>=1.16.0 in /anaconda/envs/azureml_py38/lib/python3.8/site-packages (from tensorflow->keras-rl2) (1.19.0)\nRequirement already satisfied: termcolor>=1.1.0 in /anaconda/envs/azureml_py38/lib/python3.8/site-packages (from tensorflow->keras-rl2) (1.1.0)\nRequirement already satisfied: astunparse==1.6.3 in /anaconda/envs/azureml_py38/lib/python3.8/site-packages (from tensorflow->keras-rl2) (1.6.3)\nRequirement already satisfied: absl-py>=0.7.0 in /anaconda/envs/azureml_py38/lib/python3.8/site-packages (from tensorflow->keras-rl2) (0.15.0)\nRequirement already satisfied: keras-preprocessing>=1.1.0 in /anaconda/envs/azureml_py38/lib/python3.8/site-packages (from tensorflow->keras-rl2) (1.1.2)\nRequirement already satisfied: six>=1.12.0 in /anaconda/envs/azureml_py38/lib/python3.8/site-packages (from tensorflow->keras-rl2) (1.16.0)\nRequirement already satisfied: wrapt>=1.11.1 in /anaconda/envs/azureml_py38/lib/python3.8/site-packages (from tensorflow->keras-rl2) (1.12.1)\nRequirement already satisfied: gast==0.3.3 in /anaconda/envs/azureml_py38/lib/python3.8/site-packages (from tensorflow->keras-rl2) (0.3.3)\nRequirement already satisfied: h5py<2.11.0,>=2.10.0 in /anaconda/envs/azureml_py38/lib/python3.8/site-packages (from tensorflow->keras-rl2) (2.10.0)\nRequirement already satisfied: scipy==1.4.1; python_version >= \"3\" in /anaconda/envs/azureml_py38/lib/python3.8/site-packages (from tensorflow->keras-rl2) (1.4.1)\nRequirement already satisfied: tensorflow-estimator<2.3.0,>=2.2.0 in /anaconda/envs/azureml_py38/lib/python3.8/site-packages (from tensorflow->keras-rl2) (2.2.0)\nRequirement already satisfied: wheel>=0.26; python_version >= \"3\" in /anaconda/envs/azureml_py38/lib/python3.8/site-packages (from tensorflow->keras-rl2) (0.37.1)\nRequirement already satisfied: werkzeug>=0.11.15 in /anaconda/envs/azureml_py38/lib/python3.8/site-packages (from tensorboard<2.3.0,>=2.2.0->tensorflow->keras-rl2) (1.0.1)\nRequirement already satisfied: requests<3,>=2.21.0 in /anaconda/envs/azureml_py38/lib/python3.8/site-packages (from tensorboard<2.3.0,>=2.2.0->tensorflow->keras-rl2) (2.27.1)\nRequirement already satisfied: setuptools>=41.0.0 in /anaconda/envs/azureml_py38/lib/python3.8/site-packages (from tensorboard<2.3.0,>=2.2.0->tensorflow->keras-rl2) (49.6.0)\nRequirement already satisfied: markdown>=2.6.8 in /anaconda/envs/azureml_py38/lib/python3.8/site-packages (from tensorboard<2.3.0,>=2.2.0->tensorflow->keras-rl2) (3.3.7)\nRequirement already satisfied: google-auth-oauthlib<0.5,>=0.4.1 in /anaconda/envs/azureml_py38/lib/python3.8/site-packages (from tensorboard<2.3.0,>=2.2.0->tensorflow->keras-rl2) (0.4.6)\nRequirement already satisfied: tensorboard-plugin-wit>=1.6.0 in /anaconda/envs/azureml_py38/lib/python3.8/site-packages (from tensorboard<2.3.0,>=2.2.0->tensorflow->keras-rl2) (1.8.1)\nRequirement already satisfied: google-auth<2,>=1.6.3 in /anaconda/envs/azureml_py38/lib/python3.8/site-packages (from tensorboard<2.3.0,>=2.2.0->tensorflow->keras-rl2) (1.35.0)\nRequirement already satisfied: idna<4,>=2.5; python_version >= \"3\" in /anaconda/envs/azureml_py38/lib/python3.8/site-packages (from requests<3,>=2.21.0->tensorboard<2.3.0,>=2.2.0->tensorflow->keras-rl2) (3.3)\nRequirement already satisfied: urllib3<1.27,>=1.21.1 in /anaconda/envs/azureml_py38/lib/python3.8/site-packages (from requests<3,>=2.21.0->tensorboard<2.3.0,>=2.2.0->tensorflow->keras-rl2) (1.26.9)\nRequirement already satisfied: charset-normalizer~=2.0.0; python_version >= \"3\" in /anaconda/envs/azureml_py38/lib/python3.8/site-packages (from requests<3,>=2.21.0->tensorboard<2.3.0,>=2.2.0->tensorflow->keras-rl2) (2.0.12)\nRequirement already satisfied: certifi>=2017.4.17 in /anaconda/envs/azureml_py38/lib/python3.8/site-packages (from requests<3,>=2.21.0->tensorboard<2.3.0,>=2.2.0->tensorflow->keras-rl2) (2022.5.18.1)\nRequirement already satisfied: importlib-metadata>=4.4; python_version < \"3.10\" in /anaconda/envs/azureml_py38/lib/python3.8/site-packages (from markdown>=2.6.8->tensorboard<2.3.0,>=2.2.0->tensorflow->keras-rl2) (4.11.3)\nRequirement already satisfied: requests-oauthlib>=0.7.0 in /anaconda/envs/azureml_py38/lib/python3.8/site-packages (from google-auth-oauthlib<0.5,>=0.4.1->tensorboard<2.3.0,>=2.2.0->tensorflow->keras-rl2) (1.3.1)\nRequirement already satisfied: rsa<5,>=3.1.4; python_version >= \"3.6\" in /anaconda/envs/azureml_py38/lib/python3.8/site-packages (from google-auth<2,>=1.6.3->tensorboard<2.3.0,>=2.2.0->tensorflow->keras-rl2) (4.8)\nRequirement already satisfied: cachetools<5.0,>=2.0.0 in /anaconda/envs/azureml_py38/lib/python3.8/site-packages (from google-auth<2,>=1.6.3->tensorboard<2.3.0,>=2.2.0->tensorflow->keras-rl2) (4.2.4)\nRequirement already satisfied: pyasn1-modules>=0.2.1 in /anaconda/envs/azureml_py38/lib/python3.8/site-packages (from google-auth<2,>=1.6.3->tensorboard<2.3.0,>=2.2.0->tensorflow->keras-rl2) (0.2.8)\nRequirement already satisfied: zipp>=0.5 in /anaconda/envs/azureml_py38/lib/python3.8/site-packages (from importlib-metadata>=4.4; python_version < \"3.10\"->markdown>=2.6.8->tensorboard<2.3.0,>=2.2.0->tensorflow->keras-rl2) (3.8.0)\nRequirement already satisfied: oauthlib>=3.0.0 in /anaconda/envs/azureml_py38/lib/python3.8/site-packages (from requests-oauthlib>=0.7.0->google-auth-oauthlib<0.5,>=0.4.1->tensorboard<2.3.0,>=2.2.0->tensorflow->keras-rl2) (3.2.0)\nRequirement already satisfied: pyasn1>=0.1.3 in /anaconda/envs/azureml_py38/lib/python3.8/site-packages (from rsa<5,>=3.1.4; python_version >= \"3.6\"->google-auth<2,>=1.6.3->tensorboard<2.3.0,>=2.2.0->tensorflow->keras-rl2) (0.4.8)\nRequirement already satisfied: gym in /anaconda/envs/azureml_py38/lib/python3.8/site-packages (0.21.0)\nRequirement already satisfied: numpy>=1.18.0 in /anaconda/envs/azureml_py38/lib/python3.8/site-packages (from gym) (1.19.0)\nRequirement already satisfied: cloudpickle>=1.2.0 in /anaconda/envs/azureml_py38/lib/python3.8/site-packages (from gym) (1.6.0)\nRequirement already satisfied: sympy in /anaconda/envs/azureml_py38/lib/python3.8/site-packages (1.10.1)\nRequirement already satisfied: mpmath>=0.19 in /anaconda/envs/azureml_py38/lib/python3.8/site-packages (from sympy) (1.2.1)\nRequirement already satisfied: optuna in /anaconda/envs/azureml_py38/lib/python3.8/site-packages (2.10.1)\nRequirement already satisfied: tqdm in /anaconda/envs/azureml_py38/lib/python3.8/site-packages (from optuna) (4.64.0)\nRequirement already satisfied: packaging>=20.0 in /anaconda/envs/azureml_py38/lib/python3.8/site-packages (from optuna) (21.3)\nRequirement already satisfied: alembic in /anaconda/envs/azureml_py38/lib/python3.8/site-packages (from optuna) (1.8.0)\nRequirement already satisfied: scipy!=1.4.0 in /anaconda/envs/azureml_py38/lib/python3.8/site-packages (from optuna) (1.4.1)\nRequirement already satisfied: cmaes>=0.8.2 in /anaconda/envs/azureml_py38/lib/python3.8/site-packages (from optuna) (0.8.2)\nRequirement already satisfied: colorlog in /anaconda/envs/azureml_py38/lib/python3.8/site-packages (from optuna) (6.6.0)\nRequirement already satisfied: sqlalchemy>=1.1.0 in /anaconda/envs/azureml_py38/lib/python3.8/site-packages (from optuna) (1.4.37)\nRequirement already satisfied: cliff in /anaconda/envs/azureml_py38/lib/python3.8/site-packages (from optuna) (3.10.1)\nRequirement already satisfied: PyYAML in /anaconda/envs/azureml_py38/lib/python3.8/site-packages (from optuna) (6.0)\nRequirement already satisfied: numpy in /anaconda/envs/azureml_py38/lib/python3.8/site-packages (from optuna) (1.19.0)\nRequirement already satisfied: pyparsing!=3.0.5,>=2.0.2 in /anaconda/envs/azureml_py38/lib/python3.8/site-packages (from packaging>=20.0->optuna) (3.0.9)\nRequirement already satisfied: importlib-metadata; python_version < \"3.9\" in /anaconda/envs/azureml_py38/lib/python3.8/site-packages (from alembic->optuna) (4.11.3)\nRequirement already satisfied: importlib-resources; python_version < \"3.9\" in /anaconda/envs/azureml_py38/lib/python3.8/site-packages (from alembic->optuna) (5.7.1)\nRequirement already satisfied: Mako in /anaconda/envs/azureml_py38/lib/python3.8/site-packages (from alembic->optuna) (1.2.0)\nRequirement already satisfied: greenlet!=0.4.17; python_version >= \"3\" and (platform_machine == \"aarch64\" or (platform_machine == \"ppc64le\" or (platform_machine == \"x86_64\" or (platform_machine == \"amd64\" or (platform_machine == \"AMD64\" or (platform_machine == \"win32\" or platform_machine == \"WIN32\")))))) in /anaconda/envs/azureml_py38/lib/python3.8/site-packages (from sqlalchemy>=1.1.0->optuna) (1.1.2)\nRequirement already satisfied: pbr!=2.1.0,>=2.0.0 in /anaconda/envs/azureml_py38/lib/python3.8/site-packages (from cliff->optuna) (5.9.0)\nRequirement already satisfied: PrettyTable>=0.7.2 in /anaconda/envs/azureml_py38/lib/python3.8/site-packages (from cliff->optuna) (3.3.0)\nRequirement already satisfied: autopage>=0.4.0 in /anaconda/envs/azureml_py38/lib/python3.8/site-packages (from cliff->optuna) (0.5.1)\nRequirement already satisfied: stevedore>=2.0.1 in /anaconda/envs/azureml_py38/lib/python3.8/site-packages (from cliff->optuna) (4.0.0)\nRequirement already satisfied: cmd2>=1.0.0 in /anaconda/envs/azureml_py38/lib/python3.8/site-packages (from cliff->optuna) (2.4.2)\nRequirement already satisfied: zipp>=0.5 in /anaconda/envs/azureml_py38/lib/python3.8/site-packages (from importlib-metadata; python_version < \"3.9\"->alembic->optuna) (3.8.0)\nRequirement already satisfied: MarkupSafe>=0.9.2 in /anaconda/envs/azureml_py38/lib/python3.8/site-packages (from Mako->alembic->optuna) (2.0.1)\nRequirement already satisfied: wcwidth in /anaconda/envs/azureml_py38/lib/python3.8/site-packages (from PrettyTable>=0.7.2->cliff->optuna) (0.2.5)\nRequirement already satisfied: attrs>=16.3.0 in /anaconda/envs/azureml_py38/lib/python3.8/site-packages (from cmd2>=1.0.0->cliff->optuna) (21.4.0)\nRequirement already satisfied: pyperclip>=1.6 in /anaconda/envs/azureml_py38/lib/python3.8/site-packages (from cmd2>=1.0.0->cliff->optuna) (1.8.2)\nRequirement already satisfied: joblib in /anaconda/envs/azureml_py38/lib/python3.8/site-packages (0.14.1)\n"
        }
      ],
      "execution_count": 1,
      "metadata": {
        "colab": {
          "base_uri": "https://localhost:8080/"
        },
        "execution": {
          "iopub.execute_input": "2022-06-22T07:07:27.921422Z",
          "iopub.status.busy": "2022-06-22T07:07:27.920741Z",
          "iopub.status.idle": "2022-06-22T07:07:53.671254Z",
          "shell.execute_reply": "2022-06-22T07:07:53.670603Z",
          "shell.execute_reply.started": "2022-06-22T07:07:27.921391Z"
        },
        "id": "b_ezGGzkUkfi",
        "outputId": "40b3577e-018e-4753-bc33-7642ceae0587"
      }
    },
    {
      "cell_type": "code",
      "source": [
        "!pip install -U numpy\r\n",
        "!pip install -U tensorflow"
      ],
      "outputs": [
        {
          "output_type": "stream",
          "name": "stdout",
          "text": "Collecting numpy\n  Downloading numpy-1.23.1-cp38-cp38-manylinux_2_17_x86_64.manylinux2014_x86_64.whl (17.1 MB)\n\u001b[K     |████████████████████████████████| 17.1 MB 9.9 MB/s eta 0:00:01\n\u001b[31mERROR: pyldavis 3.3.1 requires sklearn, which is not installed.\u001b[0m\n\u001b[31mERROR: pandas-ml 0.6.1 requires enum34, which is not installed.\u001b[0m\n\u001b[31mERROR: fbprophet 0.7.1 requires cmdstanpy==0.9.5, which is not installed.\u001b[0m\n\u001b[31mERROR: yellowbrick 1.4 has requirement scikit-learn>=1.0.0, but you'll have scikit-learn 0.22.1 which is incompatible.\u001b[0m\n\u001b[31mERROR: torchvision 0.9.1 has requirement torch==1.8.1, but you'll have torch 1.10.2 which is incompatible.\u001b[0m\n\u001b[31mERROR: tensorflow 2.2.0 has requirement tensorflow-estimator<2.3.0,>=2.2.0, but you'll have tensorflow-estimator 2.1.0 which is incompatible.\u001b[0m\n\u001b[31mERROR: tensorflow-gpu 2.2.0 has requirement tensorflow-estimator<2.3.0,>=2.2.0, but you'll have tensorflow-estimator 2.1.0 which is incompatible.\u001b[0m\n\u001b[31mERROR: ray 1.13.0 has requirement grpcio<=1.43.0,>=1.28.1, but you'll have grpcio 1.46.3 which is incompatible.\u001b[0m\n\u001b[31mERROR: raiwidgets 0.18.1 has requirement itsdangerous==2.0.1, but you'll have itsdangerous 1.1.0 which is incompatible.\u001b[0m\n\u001b[31mERROR: raiwidgets 0.18.1 has requirement jinja2==2.11.3, but you'll have jinja2 2.11.2 which is incompatible.\u001b[0m\n\u001b[31mERROR: pyod 1.0.1 has requirement scipy>=1.5.1, but you'll have scipy 1.4.1 which is incompatible.\u001b[0m\n\u001b[31mERROR: pyldavis 3.3.1 has requirement pandas>=1.2.0, but you'll have pandas 1.1.5 which is incompatible.\u001b[0m\n\u001b[31mERROR: pycaret 2.3.10 has requirement pyyaml<6.0.0, but you'll have pyyaml 6.0 which is incompatible.\u001b[0m\n\u001b[31mERROR: pycaret 2.3.10 has requirement scikit-learn==0.23.2, but you'll have scikit-learn 0.22.1 which is incompatible.\u001b[0m\n\u001b[31mERROR: phik 0.12.2 has requirement scipy>=1.5.2, but you'll have scipy 1.4.1 which is incompatible.\u001b[0m\n\u001b[31mERROR: pandas-profiling 3.2.0 has requirement joblib~=1.1.0, but you'll have joblib 0.14.1 which is incompatible.\u001b[0m\n\u001b[31mERROR: pandas-profiling 3.2.0 has requirement markupsafe~=2.1.1, but you'll have markupsafe 2.0.1 which is incompatible.\u001b[0m\n\u001b[31mERROR: mlxtend 0.20.0 has requirement scikit-learn>=1.0.2, but you'll have scikit-learn 0.22.1 which is incompatible.\u001b[0m\n\u001b[31mERROR: imbalanced-learn 0.7.0 has requirement scikit-learn>=0.23, but you'll have scikit-learn 0.22.1 which is incompatible.\u001b[0m\n\u001b[31mERROR: imageio 2.19.3 has requirement pillow>=8.3.2, but you'll have pillow 6.2.1 which is incompatible.\u001b[0m\n\u001b[31mERROR: datasets 1.8.0 has requirement tqdm<4.50.0,>=4.27, but you'll have tqdm 4.64.0 which is incompatible.\u001b[0m\n\u001b[31mERROR: dask-sql 2022.6.0 has requirement dask[dataframe,distributed]<=2022.5.2,>=2022.3.0, but you'll have dask 2.30.0 which is incompatible.\u001b[0m\n\u001b[31mERROR: bokeh 2.4.3 has requirement pillow>=7.1.0, but you'll have pillow 6.2.1 which is incompatible.\u001b[0m\n\u001b[31mERROR: azureml-training-tabular 1.42.0 has requirement numpy<1.20.0,>=1.16.0, but you'll have numpy 1.23.1 which is incompatible.\u001b[0m\n\u001b[31mERROR: azureml-train-automl-runtime 1.42.0 has requirement numpy<1.20.0,>=1.16.0, but you'll have numpy 1.23.1 which is incompatible.\u001b[0m\n\u001b[31mERROR: azureml-interpret 1.42.0 has requirement numpy<=1.20.*, but you'll have numpy 1.23.1 which is incompatible.\u001b[0m\n\u001b[31mERROR: azureml-automl-runtime 1.42.0 has requirement numpy<1.20.0,>=1.16.0, but you'll have numpy 1.23.1 which is incompatible.\u001b[0m\n\u001b[31mERROR: autokeras 1.0.16 has requirement tensorflow<=2.5.0,>=2.3.0, but you'll have tensorflow 2.2.0 which is incompatible.\u001b[0m\n\u001b[31mERROR: arviz 0.11.2 has requirement typing-extensions<4,>=3.7.4.3, but you'll have typing-extensions 4.2.0 which is incompatible.\u001b[0m\n\u001b[?25hInstalling collected packages: numpy\n  Attempting uninstall: numpy\n    Found existing installation: numpy 1.19.0\n    Uninstalling numpy-1.19.0:\n      Successfully uninstalled numpy-1.19.0\nSuccessfully installed numpy-1.23.1\nCollecting tensorflow\n  Downloading tensorflow-2.9.1-cp38-cp38-manylinux_2_17_x86_64.manylinux2014_x86_64.whl (511.7 MB)\n\u001b[K     |████████████████████████████████| 511.7 MB 14 kB/s /s eta 0:00:01\n\u001b[?25hRequirement already satisfied, skipping upgrade: gast<=0.4.0,>=0.2.1 in /anaconda/envs/azureml_py38/lib/python3.8/site-packages (from tensorflow) (0.3.3)\nCollecting tensorflow-estimator<2.10.0,>=2.9.0rc0\n  Downloading tensorflow_estimator-2.9.0-py2.py3-none-any.whl (438 kB)\n\u001b[K     |████████████████████████████████| 438 kB 80.6 MB/s eta 0:00:01\n\u001b[?25hRequirement already satisfied, skipping upgrade: google-pasta>=0.1.1 in /anaconda/envs/azureml_py38/lib/python3.8/site-packages (from tensorflow) (0.2.0)\nRequirement already satisfied, skipping upgrade: wrapt>=1.11.0 in /anaconda/envs/azureml_py38/lib/python3.8/site-packages (from tensorflow) (1.12.1)\nRequirement already satisfied, skipping upgrade: opt-einsum>=2.3.2 in /anaconda/envs/azureml_py38/lib/python3.8/site-packages (from tensorflow) (3.3.0)\nCollecting tensorflow-io-gcs-filesystem>=0.23.1\n  Downloading tensorflow_io_gcs_filesystem-0.26.0-cp38-cp38-manylinux_2_12_x86_64.manylinux2010_x86_64.whl (2.4 MB)\n\u001b[K     |████████████████████████████████| 2.4 MB 82.0 MB/s eta 0:00:01\n\u001b[?25hRequirement already satisfied, skipping upgrade: termcolor>=1.1.0 in /anaconda/envs/azureml_py38/lib/python3.8/site-packages (from tensorflow) (1.1.0)\nCollecting keras<2.10.0,>=2.9.0rc0\n  Downloading keras-2.9.0-py2.py3-none-any.whl (1.6 MB)\n\u001b[K     |████████████████████████████████| 1.6 MB 86.0 MB/s eta 0:00:01\n\u001b[?25hRequirement already satisfied, skipping upgrade: typing-extensions>=3.6.6 in /anaconda/envs/azureml_py38/lib/python3.8/site-packages (from tensorflow) (4.2.0)\nRequirement already satisfied, skipping upgrade: grpcio<2.0,>=1.24.3 in /anaconda/envs/azureml_py38/lib/python3.8/site-packages (from tensorflow) (1.46.3)\nCollecting flatbuffers<2,>=1.12\n  Downloading flatbuffers-1.12-py2.py3-none-any.whl (15 kB)\nCollecting protobuf<3.20,>=3.9.2\n  Downloading protobuf-3.19.4-cp38-cp38-manylinux_2_17_x86_64.manylinux2014_x86_64.whl (1.1 MB)\n\u001b[K     |████████████████████████████████| 1.1 MB 64.7 MB/s eta 0:00:01\n\u001b[?25hRequirement already satisfied, skipping upgrade: astunparse>=1.6.0 in /anaconda/envs/azureml_py38/lib/python3.8/site-packages (from tensorflow) (1.6.3)\nRequirement already satisfied, skipping upgrade: numpy>=1.20 in /anaconda/envs/azureml_py38/lib/python3.8/site-packages (from tensorflow) (1.23.1)\nRequirement already satisfied, skipping upgrade: keras-preprocessing>=1.1.1 in /anaconda/envs/azureml_py38/lib/python3.8/site-packages (from tensorflow) (1.1.2)\nRequirement already satisfied, skipping upgrade: setuptools in /anaconda/envs/azureml_py38/lib/python3.8/site-packages (from tensorflow) (49.6.0)\nRequirement already satisfied, skipping upgrade: packaging in /anaconda/envs/azureml_py38/lib/python3.8/site-packages (from tensorflow) (21.3)\nCollecting libclang>=13.0.0\n  Downloading libclang-14.0.1-py2.py3-none-manylinux1_x86_64.whl (14.5 MB)\n\u001b[K     |████████████████████████████████| 14.5 MB 25 kB/s s eta 0:00:01\n\u001b[?25hRequirement already satisfied, skipping upgrade: six>=1.12.0 in /anaconda/envs/azureml_py38/lib/python3.8/site-packages (from tensorflow) (1.16.0)\nCollecting tensorboard<2.10,>=2.9\n  Downloading tensorboard-2.9.1-py3-none-any.whl (5.8 MB)\n\u001b[K     |████████████████████████████████| 5.8 MB 4.9 kB/s  eta 0:00:01\n\u001b[?25hCollecting absl-py>=1.0.0\n  Downloading absl_py-1.2.0-py3-none-any.whl (123 kB)\n\u001b[K     |████████████████████████████████| 123 kB 2.4 kB/s  eta 0:00:01\n\u001b[?25hRequirement already satisfied, skipping upgrade: h5py>=2.9.0 in /anaconda/envs/azureml_py38/lib/python3.8/site-packages (from tensorflow) (2.10.0)\nRequirement already satisfied, skipping upgrade: wheel<1.0,>=0.23.0 in /anaconda/envs/azureml_py38/lib/python3.8/site-packages (from astunparse>=1.6.0->tensorflow) (0.37.1)\nRequirement already satisfied, skipping upgrade: pyparsing!=3.0.5,>=2.0.2 in /anaconda/envs/azureml_py38/lib/python3.8/site-packages (from packaging->tensorflow) (3.0.9)\nRequirement already satisfied, skipping upgrade: requests<3,>=2.21.0 in /anaconda/envs/azureml_py38/lib/python3.8/site-packages (from tensorboard<2.10,>=2.9->tensorflow) (2.27.1)\nRequirement already satisfied, skipping upgrade: markdown>=2.6.8 in /anaconda/envs/azureml_py38/lib/python3.8/site-packages (from tensorboard<2.10,>=2.9->tensorflow) (3.3.7)\nRequirement already satisfied, skipping upgrade: google-auth-oauthlib<0.5,>=0.4.1 in /anaconda/envs/azureml_py38/lib/python3.8/site-packages (from tensorboard<2.10,>=2.9->tensorflow) (0.4.6)\nRequirement already satisfied, skipping upgrade: werkzeug>=1.0.1 in /anaconda/envs/azureml_py38/lib/python3.8/site-packages (from tensorboard<2.10,>=2.9->tensorflow) (1.0.1)\nRequirement already satisfied, skipping upgrade: google-auth<3,>=1.6.3 in /anaconda/envs/azureml_py38/lib/python3.8/site-packages (from tensorboard<2.10,>=2.9->tensorflow) (1.35.0)\nRequirement already satisfied, skipping upgrade: tensorboard-data-server<0.7.0,>=0.6.0 in /anaconda/envs/azureml_py38/lib/python3.8/site-packages (from tensorboard<2.10,>=2.9->tensorflow) (0.6.1)\nRequirement already satisfied, skipping upgrade: tensorboard-plugin-wit>=1.6.0 in /anaconda/envs/azureml_py38/lib/python3.8/site-packages (from tensorboard<2.10,>=2.9->tensorflow) (1.8.1)\nRequirement already satisfied, skipping upgrade: certifi>=2017.4.17 in /anaconda/envs/azureml_py38/lib/python3.8/site-packages (from requests<3,>=2.21.0->tensorboard<2.10,>=2.9->tensorflow) (2022.5.18.1)\nRequirement already satisfied, skipping upgrade: idna<4,>=2.5; python_version >= \"3\" in /anaconda/envs/azureml_py38/lib/python3.8/site-packages (from requests<3,>=2.21.0->tensorboard<2.10,>=2.9->tensorflow) (3.3)\nRequirement already satisfied, skipping upgrade: urllib3<1.27,>=1.21.1 in /anaconda/envs/azureml_py38/lib/python3.8/site-packages (from requests<3,>=2.21.0->tensorboard<2.10,>=2.9->tensorflow) (1.26.9)\nRequirement already satisfied, skipping upgrade: charset-normalizer~=2.0.0; python_version >= \"3\" in /anaconda/envs/azureml_py38/lib/python3.8/site-packages (from requests<3,>=2.21.0->tensorboard<2.10,>=2.9->tensorflow) (2.0.12)\nRequirement already satisfied, skipping upgrade: importlib-metadata>=4.4; python_version < \"3.10\" in /anaconda/envs/azureml_py38/lib/python3.8/site-packages (from markdown>=2.6.8->tensorboard<2.10,>=2.9->tensorflow) (4.11.3)\nRequirement already satisfied, skipping upgrade: requests-oauthlib>=0.7.0 in /anaconda/envs/azureml_py38/lib/python3.8/site-packages (from google-auth-oauthlib<0.5,>=0.4.1->tensorboard<2.10,>=2.9->tensorflow) (1.3.1)\nRequirement already satisfied, skipping upgrade: rsa<5,>=3.1.4; python_version >= \"3.6\" in /anaconda/envs/azureml_py38/lib/python3.8/site-packages (from google-auth<3,>=1.6.3->tensorboard<2.10,>=2.9->tensorflow) (4.8)\nRequirement already satisfied, skipping upgrade: pyasn1-modules>=0.2.1 in /anaconda/envs/azureml_py38/lib/python3.8/site-packages (from google-auth<3,>=1.6.3->tensorboard<2.10,>=2.9->tensorflow) (0.2.8)\nRequirement already satisfied, skipping upgrade: cachetools<5.0,>=2.0.0 in /anaconda/envs/azureml_py38/lib/python3.8/site-packages (from google-auth<3,>=1.6.3->tensorboard<2.10,>=2.9->tensorflow) (4.2.4)\nRequirement already satisfied, skipping upgrade: zipp>=0.5 in /anaconda/envs/azureml_py38/lib/python3.8/site-packages (from importlib-metadata>=4.4; python_version < \"3.10\"->markdown>=2.6.8->tensorboard<2.10,>=2.9->tensorflow) (3.8.0)\nRequirement already satisfied, skipping upgrade: oauthlib>=3.0.0 in /anaconda/envs/azureml_py38/lib/python3.8/site-packages (from requests-oauthlib>=0.7.0->google-auth-oauthlib<0.5,>=0.4.1->tensorboard<2.10,>=2.9->tensorflow) (3.2.0)\nRequirement already satisfied, skipping upgrade: pyasn1>=0.1.3 in /anaconda/envs/azureml_py38/lib/python3.8/site-packages (from rsa<5,>=3.1.4; python_version >= \"3.6\"->google-auth<3,>=1.6.3->tensorboard<2.10,>=2.9->tensorflow) (0.4.8)\n\u001b[31mERROR: tensorflow-gpu 2.2.0 has requirement tensorboard<2.3.0,>=2.2.0, but you'll have tensorboard 2.9.1 which is incompatible.\u001b[0m\n\u001b[31mERROR: tensorflow-gpu 2.2.0 has requirement tensorflow-estimator<2.3.0,>=2.2.0, but you'll have tensorflow-estimator 2.9.0 which is incompatible.\u001b[0m\n\u001b[31mERROR: ray 1.13.0 has requirement grpcio<=1.43.0,>=1.28.1, but you'll have grpcio 1.46.3 which is incompatible.\u001b[0m\n\u001b[31mERROR: azureml-training-tabular 1.42.0 has requirement numpy<1.20.0,>=1.16.0, but you'll have numpy 1.23.1 which is incompatible.\u001b[0m\n\u001b[31mERROR: azureml-train-automl-runtime 1.42.0 has requirement numpy<1.20.0,>=1.16.0, but you'll have numpy 1.23.1 which is incompatible.\u001b[0m\n\u001b[31mERROR: azureml-automl-runtime 1.42.0 has requirement numpy<1.20.0,>=1.16.0, but you'll have numpy 1.23.1 which is incompatible.\u001b[0m\n\u001b[31mERROR: autokeras 1.0.16 has requirement tensorflow<=2.5.0,>=2.3.0, but you'll have tensorflow 2.9.1 which is incompatible.\u001b[0m\nInstalling collected packages: tensorflow-estimator, tensorflow-io-gcs-filesystem, keras, flatbuffers, protobuf, libclang, absl-py, tensorboard, tensorflow\n  Attempting uninstall: tensorflow-estimator\n    Found existing installation: tensorflow-estimator 2.1.0\n    Uninstalling tensorflow-estimator-2.1.0:\n      Successfully uninstalled tensorflow-estimator-2.1.0\n  Attempting uninstall: keras\n    Found existing installation: Keras 2.3.1\n    Uninstalling Keras-2.3.1:\n      Successfully uninstalled Keras-2.3.1\n  Attempting uninstall: flatbuffers\n    Found existing installation: flatbuffers 2.0\n    Uninstalling flatbuffers-2.0:\n      Successfully uninstalled flatbuffers-2.0\n  Attempting uninstall: protobuf\n    Found existing installation: protobuf 3.20.1\n    Uninstalling protobuf-3.20.1:\n      Successfully uninstalled protobuf-3.20.1\n  Attempting uninstall: absl-py\n    Found existing installation: absl-py 0.15.0\n    Uninstalling absl-py-0.15.0:\n      Successfully uninstalled absl-py-0.15.0\n  Attempting uninstall: tensorboard\n    Found existing installation: tensorboard 2.2.2\n    Uninstalling tensorboard-2.2.2:\n      Successfully uninstalled tensorboard-2.2.2\n  Attempting uninstall: tensorflow\n    Found existing installation: tensorflow 2.2.0\n    Uninstalling tensorflow-2.2.0:\n      Successfully uninstalled tensorflow-2.2.0\nSuccessfully installed absl-py-1.2.0 flatbuffers-1.12 keras-2.9.0 libclang-14.0.1 protobuf-3.19.4 tensorboard-2.9.1 tensorflow-2.9.1 tensorflow-estimator-2.9.0 tensorflow-io-gcs-filesystem-0.26.0\n"
        }
      ],
      "execution_count": 13,
      "metadata": {
        "jupyter": {
          "source_hidden": false,
          "outputs_hidden": false
        },
        "nteract": {
          "transient": {
            "deleting": false
          }
        }
      }
    },
    {
      "cell_type": "code",
      "source": [
        "import tensorflow as tf\n",
        "from tensorflow import keras\n",
        "import ai_optuna as ai\n",
        "import numpy as np"
      ],
      "outputs": [
        {
          "output_type": "error",
          "ename": "ImportError",
          "evalue": "cannot import name 'get_config' from 'tensorflow.python.eager.context' (/anaconda/envs/azureml_py38/lib/python3.8/site-packages/tensorflow/python/eager/context.py)",
          "traceback": [
            "\u001b[0;31m---------------------------------------------------------------------------\u001b[0m",
            "\u001b[0;31mImportError\u001b[0m                               Traceback (most recent call last)",
            "Input \u001b[0;32mIn [16]\u001b[0m, in \u001b[0;36m<cell line: 3>\u001b[0;34m()\u001b[0m\n\u001b[1;32m      1\u001b[0m \u001b[38;5;28;01mimport\u001b[39;00m \u001b[38;5;21;01mtensorflow\u001b[39;00m \u001b[38;5;28;01mas\u001b[39;00m \u001b[38;5;21;01mtf\u001b[39;00m\n\u001b[1;32m      2\u001b[0m \u001b[38;5;28;01mfrom\u001b[39;00m \u001b[38;5;21;01mtensorflow\u001b[39;00m \u001b[38;5;28;01mimport\u001b[39;00m keras\n\u001b[0;32m----> 3\u001b[0m \u001b[38;5;28;01mimport\u001b[39;00m \u001b[38;5;21;01mai_optuna\u001b[39;00m \u001b[38;5;28;01mas\u001b[39;00m \u001b[38;5;21;01mai\u001b[39;00m\n\u001b[1;32m      4\u001b[0m \u001b[38;5;28;01mimport\u001b[39;00m \u001b[38;5;21;01mnumpy\u001b[39;00m \u001b[38;5;28;01mas\u001b[39;00m \u001b[38;5;21;01mnp\u001b[39;00m\n",
            "File \u001b[0;32m/mnt/batch/tasks/shared/LS_root/mounts/clusters/kniffel-instance/code/Users/elias.anderlohr/Kniffel/src/ai/ai_optuna.py:18\u001b[0m, in \u001b[0;36m<module>\u001b[0;34m\u001b[0m\n\u001b[1;32m     15\u001b[0m \u001b[38;5;28;01mfrom\u001b[39;00m \u001b[38;5;21;01mrl\u001b[39;00m\u001b[38;5;21;01m.\u001b[39;00m\u001b[38;5;21;01mmemory\u001b[39;00m \u001b[38;5;28;01mimport\u001b[39;00m SequentialMemory\n\u001b[1;32m     16\u001b[0m \u001b[38;5;28;01mfrom\u001b[39;00m \u001b[38;5;21;01mrl\u001b[39;00m\u001b[38;5;21;01m.\u001b[39;00m\u001b[38;5;21;01mcallbacks\u001b[39;00m \u001b[38;5;28;01mimport\u001b[39;00m FileLogger, ModelIntervalCheckpoint\n\u001b[0;32m---> 18\u001b[0m \u001b[38;5;28;01mfrom\u001b[39;00m \u001b[38;5;21;01mkeras\u001b[39;00m\u001b[38;5;21;01m.\u001b[39;00m\u001b[38;5;21;01mlayers\u001b[39;00m \u001b[38;5;28;01mimport\u001b[39;00m Dense, Flatten\n\u001b[1;32m     19\u001b[0m \u001b[38;5;28;01mfrom\u001b[39;00m \u001b[38;5;21;01mtensorflow\u001b[39;00m\u001b[38;5;21;01m.\u001b[39;00m\u001b[38;5;21;01mkeras\u001b[39;00m\u001b[38;5;21;01m.\u001b[39;00m\u001b[38;5;21;01moptimizers\u001b[39;00m \u001b[38;5;28;01mimport\u001b[39;00m Adam\n\u001b[1;32m     21\u001b[0m \u001b[38;5;28;01mfrom\u001b[39;00m \u001b[38;5;21;01mpathlib\u001b[39;00m \u001b[38;5;28;01mimport\u001b[39;00m Path\n",
            "File \u001b[0;32m/anaconda/envs/azureml_py38/lib/python3.8/site-packages/keras/__init__.py:24\u001b[0m, in \u001b[0;36m<module>\u001b[0;34m\u001b[0m\n\u001b[1;32m     21\u001b[0m from tensorflow.python import tf2\n\u001b[1;32m     22\u001b[0m from keras import distribute\n\u001b[0;32m---> 24\u001b[0m # See b/110718070#comment18 for more details about this import.\n\u001b[1;32m     25\u001b[0m from keras import models\n\u001b[1;32m     27\u001b[0m from keras.engine.input_layer import Input\n",
            "File \u001b[0;32m/anaconda/envs/azureml_py38/lib/python3.8/site-packages/keras/models/__init__.py:18\u001b[0m, in \u001b[0;36m<module>\u001b[0;34m\u001b[0m\n\u001b[1;32m     15\u001b[0m \u001b[38;5;124;03m\"\"\"Keras models API.\"\"\"\u001b[39;00m\n\u001b[1;32m     16\u001b[0m \u001b[38;5;66;03m# pylint: disable=g-bad-import-order\u001b[39;00m\n\u001b[0;32m---> 18\u001b[0m \u001b[38;5;28;01mfrom\u001b[39;00m \u001b[38;5;21;01mkeras\u001b[39;00m\u001b[38;5;21;01m.\u001b[39;00m\u001b[38;5;21;01mengine\u001b[39;00m\u001b[38;5;21;01m.\u001b[39;00m\u001b[38;5;21;01mfunctional\u001b[39;00m \u001b[38;5;28;01mimport\u001b[39;00m Functional\n\u001b[1;32m     19\u001b[0m \u001b[38;5;28;01mfrom\u001b[39;00m \u001b[38;5;21;01mkeras\u001b[39;00m\u001b[38;5;21;01m.\u001b[39;00m\u001b[38;5;21;01mengine\u001b[39;00m\u001b[38;5;21;01m.\u001b[39;00m\u001b[38;5;21;01msequential\u001b[39;00m \u001b[38;5;28;01mimport\u001b[39;00m Sequential\n\u001b[1;32m     20\u001b[0m \u001b[38;5;28;01mfrom\u001b[39;00m \u001b[38;5;21;01mkeras\u001b[39;00m\u001b[38;5;21;01m.\u001b[39;00m\u001b[38;5;21;01mengine\u001b[39;00m\u001b[38;5;21;01m.\u001b[39;00m\u001b[38;5;21;01mtraining\u001b[39;00m \u001b[38;5;28;01mimport\u001b[39;00m Model\n",
            "File \u001b[0;32m/anaconda/envs/azureml_py38/lib/python3.8/site-packages/keras/engine/functional.py:23\u001b[0m, in \u001b[0;36m<module>\u001b[0;34m\u001b[0m\n\u001b[1;32m     21\u001b[0m \u001b[38;5;28;01mimport\u001b[39;00m \u001b[38;5;21;01mitertools\u001b[39;00m\n\u001b[1;32m     22\u001b[0m \u001b[38;5;28;01mimport\u001b[39;00m \u001b[38;5;21;01mwarnings\u001b[39;00m\n\u001b[0;32m---> 23\u001b[0m \u001b[38;5;28;01mfrom\u001b[39;00m \u001b[38;5;21;01mkeras\u001b[39;00m \u001b[38;5;28;01mimport\u001b[39;00m backend\n\u001b[1;32m     24\u001b[0m \u001b[38;5;28;01mfrom\u001b[39;00m \u001b[38;5;21;01mkeras\u001b[39;00m\u001b[38;5;21;01m.\u001b[39;00m\u001b[38;5;21;01mdtensor\u001b[39;00m \u001b[38;5;28;01mimport\u001b[39;00m layout_map \u001b[38;5;28;01mas\u001b[39;00m layout_map_lib\n\u001b[1;32m     25\u001b[0m \u001b[38;5;28;01mfrom\u001b[39;00m \u001b[38;5;21;01mkeras\u001b[39;00m\u001b[38;5;21;01m.\u001b[39;00m\u001b[38;5;21;01mengine\u001b[39;00m \u001b[38;5;28;01mimport\u001b[39;00m base_layer\n",
            "File \u001b[0;32m/anaconda/envs/azureml_py38/lib/python3.8/site-packages/keras/backend.py:39\u001b[0m, in \u001b[0;36m<module>\u001b[0;34m\u001b[0m\n\u001b[1;32m     37\u001b[0m \u001b[38;5;28;01mfrom\u001b[39;00m \u001b[38;5;21;01mtensorflow\u001b[39;00m\u001b[38;5;21;01m.\u001b[39;00m\u001b[38;5;21;01mcore\u001b[39;00m\u001b[38;5;21;01m.\u001b[39;00m\u001b[38;5;21;01mprotobuf\u001b[39;00m \u001b[38;5;28;01mimport\u001b[39;00m config_pb2\n\u001b[1;32m     38\u001b[0m \u001b[38;5;28;01mfrom\u001b[39;00m \u001b[38;5;21;01mtensorflow\u001b[39;00m\u001b[38;5;21;01m.\u001b[39;00m\u001b[38;5;21;01mpython\u001b[39;00m\u001b[38;5;21;01m.\u001b[39;00m\u001b[38;5;21;01meager\u001b[39;00m \u001b[38;5;28;01mimport\u001b[39;00m context\n\u001b[0;32m---> 39\u001b[0m \u001b[38;5;28;01mfrom\u001b[39;00m \u001b[38;5;21;01mtensorflow\u001b[39;00m\u001b[38;5;21;01m.\u001b[39;00m\u001b[38;5;21;01mpython\u001b[39;00m\u001b[38;5;21;01m.\u001b[39;00m\u001b[38;5;21;01meager\u001b[39;00m\u001b[38;5;21;01m.\u001b[39;00m\u001b[38;5;21;01mcontext\u001b[39;00m \u001b[38;5;28;01mimport\u001b[39;00m get_config\n\u001b[1;32m     40\u001b[0m \u001b[38;5;28;01mfrom\u001b[39;00m \u001b[38;5;21;01mtensorflow\u001b[39;00m\u001b[38;5;21;01m.\u001b[39;00m\u001b[38;5;21;01mpython\u001b[39;00m\u001b[38;5;21;01m.\u001b[39;00m\u001b[38;5;21;01mframework\u001b[39;00m \u001b[38;5;28;01mimport\u001b[39;00m config\n\u001b[1;32m     41\u001b[0m \u001b[38;5;28;01mfrom\u001b[39;00m \u001b[38;5;21;01mkeras\u001b[39;00m \u001b[38;5;28;01mimport\u001b[39;00m backend_config\n",
            "\u001b[0;31mImportError\u001b[0m: cannot import name 'get_config' from 'tensorflow.python.eager.context' (/anaconda/envs/azureml_py38/lib/python3.8/site-packages/tensorflow/python/eager/context.py)"
          ]
        }
      ],
      "execution_count": 16,
      "metadata": {
        "execution": {
          "iopub.execute_input": "2022-06-22T07:07:53.673383Z",
          "iopub.status.busy": "2022-06-22T07:07:53.672634Z",
          "iopub.status.idle": "2022-06-22T07:07:54.191348Z",
          "shell.execute_reply": "2022-06-22T07:07:54.190843Z",
          "shell.execute_reply.started": "2022-06-22T07:07:53.673351Z"
        },
        "gather": {
          "logged": 1658911240477
        },
        "collapsed": true
      }
    },
    {
      "cell_type": "code",
      "source": [
        "warnings.filterwarnings(\"ignore\", category=DeprecationWarning)\n",
        "\n",
        "study = optuna.create_study(direction=\"maximize\")\n",
        "study.optimize(objective, n_trials=50)\n",
        "joblib.dump(study, \"study.pkl\")\n",
        "\n",
        "print(\"Number of finished trials: {}\".format(len(study.trials)))\n",
        "\n",
        "print(\"Best trial:\")\n",
        "trial = study.best_trial\n",
        "\n",
        "print(\"  Value: {}\".format(trial.value))\n",
        "\n",
        "print(\"  Params: \")\n",
        "for key, value in trial.params.items():\n",
        "    print(\"    {}: {}\".format(key, value))\n"
      ],
      "outputs": [],
      "execution_count": null,
      "metadata": {
        "colab": {
          "base_uri": "https://localhost:8080/"
        },
        "execution": {
          "iopub.execute_input": "2022-06-22T07:10:59.435321Z",
          "iopub.status.busy": "2022-06-22T07:10:59.434299Z",
          "iopub.status.idle": "2022-06-22T07:10:59.449037Z",
          "shell.execute_reply": "2022-06-22T07:10:59.448349Z",
          "shell.execute_reply.started": "2022-06-22T07:10:59.435272Z"
        },
        "id": "_5ILWBfrctN1",
        "outputId": "98cbca70-4223-414d-92c8-33d1717d3d74"
      }
    },
    {
      "cell_type": "code",
      "source": [
        "# ai.play(path=\"/weights/p_date=2022-06-04-06_57_09\", episodes=1000, env_config=env_config)"
      ],
      "outputs": [],
      "execution_count": 3,
      "metadata": {}
    },
    {
      "cell_type": "code",
      "source": [
        "ai.grid_search_test(nb_steps=50_000, env_config=env_config)"
      ],
      "outputs": [],
      "execution_count": 4,
      "metadata": {
        "execution": {
          "iopub.execute_input": "2022-06-22T07:11:05.182465Z",
          "iopub.status.busy": "2022-06-22T07:11:05.181596Z",
          "iopub.status.idle": "2022-06-22T07:11:05.251891Z",
          "shell.execute_reply": "2022-06-22T07:11:05.251103Z",
          "shell.execute_reply.started": "2022-06-22T07:11:05.182401Z"
        },
        "id": "dhYYUUbEctN2"
      }
    },
    {
      "cell_type": "code",
      "source": [
        "hyperparameter = {\n",
        "    \"windows_length\": 1,\n",
        "    \"adam_learning_rate\": 0.0001,\n",
        "    \"batch_size\": 128,\n",
        "    \"target_model_update\": 2_500,\n",
        "    \"adam_epsilon\": 0.01,\n",
        "    \"dueling_option\": \"avg\",\n",
        "    \"activation\": \"linear\",\n",
        "    \"layers\": 3,\n",
        "    \"unit_1\": 96,\n",
        "    \"unit_2\": 80,\n",
        "    \"unit_3\": 64,\n",
        "}\n",
        "\n",
        "ai.train(\n",
        "   hyperparameter=hyperparameter,\n",
        "   nb_steps=3_000_000,\n",
        "   env_config=env_config\n",
        ")"
      ],
      "outputs": [
        {
          "output_type": "stream",
          "name": "stdout",
          "text": "Model: \"sequential\"\n_________________________________________________________________\n Layer (type)                Output Shape              Param #   \n=================================================================\n flatten (Flatten)           (None, 41)                0         \n                                                                 \n dense (Dense)               (None, 96)                4032      \n                                                                 \n dense_1 (Dense)             (None, 80)                7760      \n                                                                 \n dense_2 (Dense)             (None, 64)                5184      \n                                                                 \n dense_3 (Dense)             (None, 57)                3705      \n                                                                 \n=================================================================\nTotal params: 20,681\nTrainable params: 20,681\nNon-trainable params: 0\n_________________________________________________________________\nTraining for 3000000 steps ...\nInterval 1 (0 steps performed)\n    9/10000 [..............................] - ETA: 1:02 - reward: -13.1667"
        },
        {
          "output_type": "stream",
          "name": "stderr",
          "text": "C:\\Users\\elias\\anaconda3\\envs\\ai\\lib\\site-packages\\keras\\engine\\training_v1.py:2079: UserWarning: `Model.state_updates` will be removed in a future version. This property should not be used in TensorFlow 2.0, as `updates` are applied automatically.\n  updates=self.state_updates,\n"
        },
        {
          "output_type": "stream",
          "name": "stdout",
          "text": " 1015/10000 [==>...........................] - ETA: 49s - reward: -15.3220"
        }
      ],
      "execution_count": null,
      "metadata": {
        "colab": {
          "base_uri": "https://localhost:8080/",
          "height": 1000
        },
        "id": "DRxDEGqhfOP5",
        "outputId": "86e264a2-e154-4713-c29f-067298c20eb9"
      }
    },
    {
      "cell_type": "code",
      "source": [],
      "outputs": [],
      "execution_count": null,
      "metadata": {
        "id": "J-FMgpdHFMog"
      }
    }
  ],
  "metadata": {
    "accelerator": "GPU",
    "colab": {
      "include_colab_link": true,
      "name": "ai-model.ipynb",
      "provenance": []
    },
    "kernelspec": {
      "name": "python38-azureml",
      "language": "python",
      "display_name": "Python 3.8 - AzureML"
    },
    "language_info": {
      "name": "python",
      "version": "3.8.5",
      "mimetype": "text/x-python",
      "codemirror_mode": {
        "name": "ipython",
        "version": 3
      },
      "pygments_lexer": "ipython3",
      "nbconvert_exporter": "python",
      "file_extension": ".py"
    },
    "vscode": {
      "interpreter": {
        "hash": "19064c4f032cd77faf21ab99fa1118d479a03b2d347142ed5bcca147285dae1c"
      }
    },
    "kernel_info": {
      "name": "python38-azureml"
    },
    "nteract": {
      "version": "nteract-front-end@1.0.0"
    }
  },
  "nbformat": 4,
  "nbformat_minor": 4
}