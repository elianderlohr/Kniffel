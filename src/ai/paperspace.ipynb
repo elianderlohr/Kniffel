{
 "cells": [
  {
   "cell_type": "code",
   "execution_count": 2,
   "metadata": {
    "colab": {
     "base_uri": "https://localhost:8080/"
    },
    "execution": {
     "iopub.execute_input": "2022-06-22T07:07:27.921422Z",
     "iopub.status.busy": "2022-06-22T07:07:27.920741Z",
     "iopub.status.idle": "2022-06-22T07:07:53.671254Z",
     "shell.execute_reply": "2022-06-22T07:07:53.670603Z",
     "shell.execute_reply.started": "2022-06-22T07:07:27.921391Z"
    },
    "id": "b_ezGGzkUkfi",
    "outputId": "40b3577e-018e-4753-bc33-7642ceae0587"
   },
   "outputs": [
    {
     "name": "stdout",
     "output_type": "stream",
     "text": [
      "Collecting keras-rl\n",
      "  Downloading keras-rl-0.4.2.tar.gz (40 kB)\n",
      "\u001b[2K     \u001b[90m━━━━━━━━━━━━━━━━━━━━━━━━━━━━━━━━━━━━━━━━\u001b[0m \u001b[32m40.5/40.5 KB\u001b[0m \u001b[31m10.6 MB/s\u001b[0m eta \u001b[36m0:00:00\u001b[0m\n",
      "\u001b[?25h  Preparing metadata (setup.py) ... \u001b[?25ldone\n",
      "\u001b[?25hRequirement already satisfied: keras>=2.0.7 in /usr/local/lib/python3.8/dist-packages (from keras-rl) (2.7.0)\n",
      "Building wheels for collected packages: keras-rl\n",
      "  Building wheel for keras-rl (setup.py) ... \u001b[?25ldone\n",
      "\u001b[?25h  Created wheel for keras-rl: filename=keras_rl-0.4.2-py3-none-any.whl size=48380 sha256=42b7c6442cea809bca1c25515a1dfdcb5d4fc2a93a5aabda2753b8e4fddbb458\n",
      "  Stored in directory: /root/.cache/pip/wheels/f7/c4/28/2e6c8cbc197e7b52ec9a7431a42a9bc85424d9873e0f2a0f45\n",
      "Successfully built keras-rl\n",
      "Installing collected packages: keras-rl\n",
      "Successfully installed keras-rl-0.4.2\n",
      "\u001b[33mWARNING: Running pip as the 'root' user can result in broken permissions and conflicting behaviour with the system package manager. It is recommended to use a virtual environment instead: https://pip.pypa.io/warnings/venv\u001b[0m\u001b[33m\n",
      "\u001b[0m\u001b[33mWARNING: You are using pip version 22.0.3; however, version 22.1.2 is available.\n",
      "You should consider upgrading via the '/usr/bin/python -m pip install --upgrade pip' command.\u001b[0m\u001b[33m\n",
      "\u001b[0mCollecting keras-rl2\n",
      "  Downloading keras_rl2-1.0.5-py3-none-any.whl (52 kB)\n",
      "\u001b[2K     \u001b[90m━━━━━━━━━━━━━━━━━━━━━━━━━━━━━━━━━━━━━━━━\u001b[0m \u001b[32m52.1/52.1 KB\u001b[0m \u001b[31m12.8 MB/s\u001b[0m eta \u001b[36m0:00:00\u001b[0m\n",
      "\u001b[?25hRequirement already satisfied: tensorflow in /usr/local/lib/python3.8/dist-packages (from keras-rl2) (2.7.0+nv22.2)\n",
      "Requirement already satisfied: absl-py==0.12.0 in /usr/local/lib/python3.8/dist-packages (from tensorflow->keras-rl2) (0.12.0)\n",
      "Requirement already satisfied: tensorboard<2.8,>=2.7.0 in /usr/local/lib/python3.8/dist-packages (from tensorflow->keras-rl2) (2.7.0)\n",
      "Requirement already satisfied: keras<2.8,>=2.7.0rc0 in /usr/local/lib/python3.8/dist-packages (from tensorflow->keras-rl2) (2.7.0)\n",
      "Requirement already satisfied: keras-preprocessing~=1.1.2 in /usr/local/lib/python3.8/dist-packages (from tensorflow->keras-rl2) (1.1.2)\n",
      "Requirement already satisfied: astunparse~=1.6.3 in /usr/local/lib/python3.8/dist-packages (from tensorflow->keras-rl2) (1.6.3)\n",
      "Requirement already satisfied: tensorflow-estimator<2.8,>=2.7.0rc0 in /usr/local/lib/python3.8/dist-packages (from tensorflow->keras-rl2) (2.7.0)\n",
      "Requirement already satisfied: flatbuffers~=1.12.0 in /usr/local/lib/python3.8/dist-packages (from tensorflow->keras-rl2) (1.12)\n",
      "Requirement already satisfied: numpy>=1.14.5 in /usr/local/lib/python3.8/dist-packages (from tensorflow->keras-rl2) (1.19.4)\n",
      "Requirement already satisfied: gast<0.5.0,>=0.2.1 in /usr/local/lib/python3.8/dist-packages (from tensorflow->keras-rl2) (0.4.0)\n",
      "Requirement already satisfied: wrapt>=1.11.0 in /usr/local/lib/python3.8/dist-packages (from tensorflow->keras-rl2) (1.12.1)\n",
      "Requirement already satisfied: grpcio<2.0,>=1.24.3 in /usr/local/lib/python3.8/dist-packages (from tensorflow->keras-rl2) (1.39.0)\n",
      "Requirement already satisfied: six>=1.12.0 in /usr/local/lib/python3.8/dist-packages (from tensorflow->keras-rl2) (1.15.0)\n",
      "Requirement already satisfied: protobuf>=3.9.2 in /usr/local/lib/python3.8/dist-packages (from tensorflow->keras-rl2) (3.17.3)\n",
      "Requirement already satisfied: typing-extensions>=3.6.6 in /usr/local/lib/python3.8/dist-packages (from tensorflow->keras-rl2) (3.7.4.3)\n",
      "Requirement already satisfied: google-pasta~=0.2 in /usr/local/lib/python3.8/dist-packages (from tensorflow->keras-rl2) (0.2.0)\n",
      "Requirement already satisfied: h5py~=3.1.0 in /usr/local/lib/python3.8/dist-packages (from tensorflow->keras-rl2) (3.1.0)\n",
      "Requirement already satisfied: opt-einsum~=3.3.0 in /usr/local/lib/python3.8/dist-packages (from tensorflow->keras-rl2) (3.3.0)\n",
      "Requirement already satisfied: termcolor>=1.1.0 in /usr/local/lib/python3.8/dist-packages (from tensorflow->keras-rl2) (1.1.0)\n",
      "Requirement already satisfied: clang~=5.0 in /usr/local/lib/python3.8/dist-packages (from tensorflow->keras-rl2) (5.0)\n",
      "Requirement already satisfied: wheel<1.0,>=0.32.0 in /usr/local/lib/python3.8/dist-packages (from tensorflow->keras-rl2) (0.35.1)\n",
      "Requirement already satisfied: google-auth-oauthlib<0.5,>=0.4.1 in /usr/local/lib/python3.8/dist-packages (from tensorboard<2.8,>=2.7.0->tensorflow->keras-rl2) (0.4.6)\n",
      "Requirement already satisfied: werkzeug>=0.11.15 in /usr/local/lib/python3.8/dist-packages (from tensorboard<2.8,>=2.7.0->tensorflow->keras-rl2) (2.0.3)\n",
      "Requirement already satisfied: tensorboard-data-server<0.7.0,>=0.6.0 in /usr/local/lib/python3.8/dist-packages (from tensorboard<2.8,>=2.7.0->tensorflow->keras-rl2) (0.6.1)\n",
      "Requirement already satisfied: tensorboard-plugin-wit>=1.6.0 in /usr/local/lib/python3.8/dist-packages (from tensorboard<2.8,>=2.7.0->tensorflow->keras-rl2) (1.8.1)\n",
      "Requirement already satisfied: markdown>=2.6.8 in /usr/local/lib/python3.8/dist-packages (from tensorboard<2.8,>=2.7.0->tensorflow->keras-rl2) (3.3.6)\n",
      "Requirement already satisfied: requests<3,>=2.21.0 in /usr/local/lib/python3.8/dist-packages (from tensorboard<2.8,>=2.7.0->tensorflow->keras-rl2) (2.27.1)\n",
      "Requirement already satisfied: setuptools>=41.0.0 in /usr/local/lib/python3.8/dist-packages (from tensorboard<2.8,>=2.7.0->tensorflow->keras-rl2) (59.4.0)\n",
      "Requirement already satisfied: google-auth<3,>=1.6.3 in /usr/local/lib/python3.8/dist-packages (from tensorboard<2.8,>=2.7.0->tensorflow->keras-rl2) (2.6.0)\n",
      "Requirement already satisfied: rsa<5,>=3.1.4 in /usr/local/lib/python3.8/dist-packages (from google-auth<3,>=1.6.3->tensorboard<2.8,>=2.7.0->tensorflow->keras-rl2) (4.8)\n",
      "Requirement already satisfied: pyasn1-modules>=0.2.1 in /usr/local/lib/python3.8/dist-packages (from google-auth<3,>=1.6.3->tensorboard<2.8,>=2.7.0->tensorflow->keras-rl2) (0.2.8)\n",
      "Requirement already satisfied: cachetools<6.0,>=2.0.0 in /usr/local/lib/python3.8/dist-packages (from google-auth<3,>=1.6.3->tensorboard<2.8,>=2.7.0->tensorflow->keras-rl2) (5.0.0)\n",
      "Requirement already satisfied: requests-oauthlib>=0.7.0 in /usr/local/lib/python3.8/dist-packages (from google-auth-oauthlib<0.5,>=0.4.1->tensorboard<2.8,>=2.7.0->tensorflow->keras-rl2) (1.3.1)\n",
      "Requirement already satisfied: importlib-metadata>=4.4 in /usr/local/lib/python3.8/dist-packages (from markdown>=2.6.8->tensorboard<2.8,>=2.7.0->tensorflow->keras-rl2) (4.10.1)\n",
      "Requirement already satisfied: urllib3<1.27,>=1.21.1 in /usr/local/lib/python3.8/dist-packages (from requests<3,>=2.21.0->tensorboard<2.8,>=2.7.0->tensorflow->keras-rl2) (1.26.8)\n",
      "Requirement already satisfied: charset-normalizer~=2.0.0 in /usr/local/lib/python3.8/dist-packages (from requests<3,>=2.21.0->tensorboard<2.8,>=2.7.0->tensorflow->keras-rl2) (2.0.11)\n",
      "Requirement already satisfied: idna<4,>=2.5 in /usr/local/lib/python3.8/dist-packages (from requests<3,>=2.21.0->tensorboard<2.8,>=2.7.0->tensorflow->keras-rl2) (3.3)\n",
      "Requirement already satisfied: certifi>=2017.4.17 in /usr/local/lib/python3.8/dist-packages (from requests<3,>=2.21.0->tensorboard<2.8,>=2.7.0->tensorflow->keras-rl2) (2021.10.8)\n",
      "Requirement already satisfied: zipp>=0.5 in /usr/local/lib/python3.8/dist-packages (from importlib-metadata>=4.4->markdown>=2.6.8->tensorboard<2.8,>=2.7.0->tensorflow->keras-rl2) (3.7.0)\n",
      "Requirement already satisfied: pyasn1<0.5.0,>=0.4.6 in /usr/local/lib/python3.8/dist-packages (from pyasn1-modules>=0.2.1->google-auth<3,>=1.6.3->tensorboard<2.8,>=2.7.0->tensorflow->keras-rl2) (0.4.8)\n",
      "Requirement already satisfied: oauthlib>=3.0.0 in /usr/local/lib/python3.8/dist-packages (from requests-oauthlib>=0.7.0->google-auth-oauthlib<0.5,>=0.4.1->tensorboard<2.8,>=2.7.0->tensorflow->keras-rl2) (3.2.0)\n",
      "Installing collected packages: keras-rl2\n",
      "Successfully installed keras-rl2-1.0.5\n",
      "\u001b[33mWARNING: Running pip as the 'root' user can result in broken permissions and conflicting behaviour with the system package manager. It is recommended to use a virtual environment instead: https://pip.pypa.io/warnings/venv\u001b[0m\u001b[33m\n",
      "\u001b[0m\u001b[33mWARNING: You are using pip version 22.0.3; however, version 22.1.2 is available.\n",
      "You should consider upgrading via the '/usr/bin/python -m pip install --upgrade pip' command.\u001b[0m\u001b[33m\n",
      "\u001b[0mCollecting gym\n",
      "  Downloading gym-0.24.1.tar.gz (696 kB)\n",
      "\u001b[2K     \u001b[90m━━━━━━━━━━━━━━━━━━━━━━━━━━━━━━━━━━━━━━\u001b[0m \u001b[32m696.4/696.4 KB\u001b[0m \u001b[31m20.3 MB/s\u001b[0m eta \u001b[36m0:00:00\u001b[0m00:01\u001b[0m\n",
      "\u001b[?25h  Installing build dependencies ... \u001b[?25ldone\n",
      "\u001b[?25h  Getting requirements to build wheel ... \u001b[?25ldone\n",
      "\u001b[?25h  Preparing metadata (pyproject.toml) ... \u001b[?25ldone\n",
      "\u001b[?25hRequirement already satisfied: numpy>=1.18.0 in /usr/local/lib/python3.8/dist-packages (from gym) (1.19.4)\n",
      "Requirement already satisfied: cloudpickle>=1.2.0 in /usr/local/lib/python3.8/dist-packages (from gym) (2.0.0)\n",
      "Collecting gym-notices>=0.0.4\n",
      "  Downloading gym_notices-0.0.7-py3-none-any.whl (2.7 kB)\n",
      "Requirement already satisfied: importlib-metadata>=4.8.0 in /usr/local/lib/python3.8/dist-packages (from gym) (4.10.1)\n",
      "Requirement already satisfied: zipp>=0.5 in /usr/local/lib/python3.8/dist-packages (from importlib-metadata>=4.8.0->gym) (3.7.0)\n",
      "Building wheels for collected packages: gym\n",
      "  Building wheel for gym (pyproject.toml) ... \u001b[?25ldone\n",
      "\u001b[?25h  Created wheel for gym: filename=gym-0.24.1-py3-none-any.whl size=793156 sha256=a29228b54ef7351794724e88753179834cc38d4709717c608acba998bb7e6ffe\n",
      "  Stored in directory: /root/.cache/pip/wheels/5a/e9/0b/5536e77ed2edbbf067ecff287ec039633d40daee4d8dac7716\n",
      "Successfully built gym\n",
      "Installing collected packages: gym-notices, gym\n",
      "Successfully installed gym-0.24.1 gym-notices-0.0.7\n",
      "\u001b[33mWARNING: Running pip as the 'root' user can result in broken permissions and conflicting behaviour with the system package manager. It is recommended to use a virtual environment instead: https://pip.pypa.io/warnings/venv\u001b[0m\u001b[33m\n",
      "\u001b[0m\u001b[33mWARNING: You are using pip version 22.0.3; however, version 22.1.2 is available.\n",
      "You should consider upgrading via the '/usr/bin/python -m pip install --upgrade pip' command.\u001b[0m\u001b[33m\n",
      "\u001b[0mCollecting sympy\n",
      "  Downloading sympy-1.10.1-py3-none-any.whl (6.4 MB)\n",
      "\u001b[2K     \u001b[90m━━━━━━━━━━━━━━━━━━━━━━━━━━━━━━━━━━━━━━━━\u001b[0m \u001b[32m6.4/6.4 MB\u001b[0m \u001b[31m20.7 MB/s\u001b[0m eta \u001b[36m0:00:00\u001b[0m00:01\u001b[0m00:01\u001b[0m\n",
      "\u001b[?25hCollecting mpmath>=0.19\n",
      "  Downloading mpmath-1.2.1-py3-none-any.whl (532 kB)\n",
      "\u001b[2K     \u001b[90m━━━━━━━━━━━━━━━━━━━━━━━━━━━━━━━━━━━━━━\u001b[0m \u001b[32m532.6/532.6 KB\u001b[0m \u001b[31m17.4 MB/s\u001b[0m eta \u001b[36m0:00:00\u001b[0m\n",
      "\u001b[?25hInstalling collected packages: mpmath, sympy\n",
      "Successfully installed mpmath-1.2.1 sympy-1.10.1\n",
      "\u001b[33mWARNING: Running pip as the 'root' user can result in broken permissions and conflicting behaviour with the system package manager. It is recommended to use a virtual environment instead: https://pip.pypa.io/warnings/venv\u001b[0m\u001b[33m\n",
      "\u001b[0m\u001b[33mWARNING: You are using pip version 22.0.3; however, version 22.1.2 is available.\n",
      "You should consider upgrading via the '/usr/bin/python -m pip install --upgrade pip' command.\u001b[0m\u001b[33m\n",
      "\u001b[0m"
     ]
    }
   ],
   "source": [
    "!pip install keras-rl\n",
    "!pip install keras-rl2\n",
    "!pip install gym\n",
    "!pip install sympy"
   ]
  },
  {
   "cell_type": "code",
   "execution_count": null,
   "metadata": {
    "execution": {
     "iopub.execute_input": "2022-06-22T07:07:53.673383Z",
     "iopub.status.busy": "2022-06-22T07:07:53.672634Z",
     "iopub.status.idle": "2022-06-22T07:07:54.191348Z",
     "shell.execute_reply": "2022-06-22T07:07:54.190843Z",
     "shell.execute_reply.started": "2022-06-22T07:07:53.673351Z"
    }
   },
   "outputs": [],
   "source": [
    "from hyperparameter import Hyperparameter\n",
    "from ai import KniffelAI\n",
    "import numpy as np"
   ]
  },
  {
   "cell_type": "code",
   "execution_count": null,
   "metadata": {
    "colab": {
     "base_uri": "https://localhost:8080/"
    },
    "execution": {
     "iopub.execute_input": "2022-06-22T07:10:59.435321Z",
     "iopub.status.busy": "2022-06-22T07:10:59.434299Z",
     "iopub.status.idle": "2022-06-22T07:10:59.449037Z",
     "shell.execute_reply": "2022-06-22T07:10:59.448349Z",
     "shell.execute_reply.started": "2022-06-22T07:10:59.435272Z"
    },
    "id": "_5ILWBfrctN1",
    "outputId": "98cbca70-4223-414d-92c8-33d1717d3d74"
   },
   "outputs": [],
   "source": [
    "units = list(range(16, 96, 16))\n",
    "\n",
    "base_hp = {\n",
    "    \"windows_length\": [1],\n",
    "    \"adam_learning_rate\": [\n",
    "        0.0001,\n",
    "        0.0005,\n",
    "        0.001,\n",
    "        0.005,\n",
    "        0.01,\n",
    "        0.05,\n",
    "        0.1,\n",
    "    ],  # np.arange(0.0001, 0.1, 0.01),\n",
    "    \"adam_epsilon\": [1e-5, 1e-4, 1e-3, 1e-2, 1e-1],\n",
    "    \"batch_size\": [32],\n",
    "    \"target_model_update\": [\n",
    "        50,\n",
    "        100,\n",
    "        200,\n",
    "        300,\n",
    "        400,\n",
    "        500,\n",
    "        750,\n",
    "        1000,\n",
    "        2_500,\n",
    "        5_000,\n",
    "        7_500,\n",
    "        10_000,\n",
    "        15_000\n",
    "    ],  # np.arange(1, 1000, 70),\n",
    "    \"dueling_option\": [\"avg\"],\n",
    "    \"activation\": [\"linear\"],\n",
    "    \"layers\": [3],\n",
    "    \"unit_1\": [96],\n",
    "    \"unit_2\": [80],\n",
    "    \"unit_3\": [64],\n",
    "}\n",
    "\n",
    "ai = KniffelAI(\n",
    "    load=False, predefined_layers=True, hyperparater_base=base_hp, path_prefix=\"../\", config_path=\"Kniffel.CSV\"\n",
    ")\n",
    "\n",
    "env_config = {\n",
    "        \"reward_step\": 0,\n",
    "        \"reward_roll_dice\": 0.5,\n",
    "        \"reward_game_over\": -1000,\n",
    "        \"reward_slash\": -10,\n",
    "        \"reward_bonus\": 20,\n",
    "        \"reward_finish\": 50,\n",
    "    }"
   ]
  },
  {
   "cell_type": "code",
   "execution_count": 3,
   "metadata": {},
   "outputs": [],
   "source": [
    "# ai.play(path=\"/weights/p_date=2022-06-04-06_57_09\", episodes=1000, env_config=env_config)"
   ]
  },
  {
   "cell_type": "code",
   "execution_count": 4,
   "metadata": {
    "execution": {
     "iopub.execute_input": "2022-06-22T07:11:05.182465Z",
     "iopub.status.busy": "2022-06-22T07:11:05.181596Z",
     "iopub.status.idle": "2022-06-22T07:11:05.251891Z",
     "shell.execute_reply": "2022-06-22T07:11:05.251103Z",
     "shell.execute_reply.started": "2022-06-22T07:11:05.182401Z"
    },
    "id": "dhYYUUbEctN2"
   },
   "outputs": [],
   "source": [
    "ai.grid_search_test(nb_steps=50_000, env_config=env_config)"
   ]
  },
  {
   "cell_type": "code",
   "execution_count": null,
   "metadata": {
    "colab": {
     "base_uri": "https://localhost:8080/",
     "height": 1000
    },
    "id": "DRxDEGqhfOP5",
    "outputId": "86e264a2-e154-4713-c29f-067298c20eb9"
   },
   "outputs": [
    {
     "name": "stdout",
     "output_type": "stream",
     "text": [
      "Model: \"sequential\"\n",
      "_________________________________________________________________\n",
      " Layer (type)                Output Shape              Param #   \n",
      "=================================================================\n",
      " flatten (Flatten)           (None, 41)                0         \n",
      "                                                                 \n",
      " dense (Dense)               (None, 96)                4032      \n",
      "                                                                 \n",
      " dense_1 (Dense)             (None, 80)                7760      \n",
      "                                                                 \n",
      " dense_2 (Dense)             (None, 64)                5184      \n",
      "                                                                 \n",
      " dense_3 (Dense)             (None, 57)                3705      \n",
      "                                                                 \n",
      "=================================================================\n",
      "Total params: 20,681\n",
      "Trainable params: 20,681\n",
      "Non-trainable params: 0\n",
      "_________________________________________________________________\n",
      "Training for 3000000 steps ...\n",
      "Interval 1 (0 steps performed)\n",
      "    9/10000 [..............................] - ETA: 1:02 - reward: -13.1667"
     ]
    },
    {
     "name": "stderr",
     "output_type": "stream",
     "text": [
      "C:\\Users\\elias\\anaconda3\\envs\\ai\\lib\\site-packages\\keras\\engine\\training_v1.py:2079: UserWarning: `Model.state_updates` will be removed in a future version. This property should not be used in TensorFlow 2.0, as `updates` are applied automatically.\n",
      "  updates=self.state_updates,\n"
     ]
    },
    {
     "name": "stdout",
     "output_type": "stream",
     "text": [
      " 1015/10000 [==>...........................] - ETA: 49s - reward: -15.3220"
     ]
    }
   ],
   "source": [
    "hyperparameter = {\n",
    "    \"windows_length\": 1,\n",
    "    \"adam_learning_rate\": 0.0001,\n",
    "    \"batch_size\": 128,\n",
    "    \"target_model_update\": 2_500,\n",
    "    \"adam_epsilon\": 0.01,\n",
    "    \"dueling_option\": \"avg\",\n",
    "    \"activation\": \"linear\",\n",
    "    \"layers\": 3,\n",
    "    \"unit_1\": 96,\n",
    "    \"unit_2\": 80,\n",
    "    \"unit_3\": 64,\n",
    "}\n",
    "\n",
    "ai.train(\n",
    "   hyperparameter=hyperparameter,\n",
    "   nb_steps=3_000_000,\n",
    "   env_config=env_config\n",
    ")"
   ]
  },
  {
   "cell_type": "code",
   "execution_count": null,
   "metadata": {
    "id": "J-FMgpdHFMog"
   },
   "outputs": [],
   "source": []
  }
 ],
 "metadata": {
  "accelerator": "GPU",
  "colab": {
   "include_colab_link": true,
   "name": "ai-model.ipynb",
   "provenance": []
  },
  "interpreter": {
   "hash": "7724bf7a85847efc5bb6a1829c232f0862f78efa3c8535cdc9aa81401d00c18c"
  },
  "kernelspec": {
   "display_name": "Python 3 (ipykernel)",
   "language": "python",
   "name": "python3"
  },
  "language_info": {
   "codemirror_mode": {
    "name": "ipython",
    "version": 3
   },
   "file_extension": ".py",
   "mimetype": "text/x-python",
   "name": "python",
   "nbconvert_exporter": "python",
   "pygments_lexer": "ipython3",
   "version": "3.9.7"
  }
 },
 "nbformat": 4,
 "nbformat_minor": 4
}
